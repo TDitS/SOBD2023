{
 "cells": [
  {
   "cell_type": "markdown",
   "id": "09369c89-9245-4cd5-a60e-043c471b67d4",
   "metadata": {},
   "source": [
    "# Лабораторная работа №2 по дисциплине \"Системы обработки больших данных\"\n",
    "## Подключаем библиотеки и отфильтрованный датасет из ЛР № 1\n",
    "### Задача регрессии - Gradient-boosted tree regression:"
   ]
  },
  {
   "cell_type": "code",
   "execution_count": 1,
   "id": "c848ccab-172a-4dde-a33e-cbd09940be3a",
   "metadata": {},
   "outputs": [
    {
     "name": "stdout",
     "output_type": "stream",
     "text": [
      "+-------------------+-------------------+----------------------+--------------+---------------+---------------------+--------------+----------+-----------+-----------+----------+-------------+\n",
      "|            tweetid|             userid|user_reported_location|follower_count|following_count|account_creation_date|tweet_language|is_retweet|quote_count|reply_count|like_count|retweet_count|\n",
      "+-------------------+-------------------+----------------------+--------------+---------------+---------------------+--------------+----------+-----------+-----------+----------+-------------+\n",
      "|1088195741615501312|1032591398657314817|             Palestine|       10238.0|        10118.0|           2018-08-23|            fa|     false|       90.0|       90.0|      90.0|         90.0|\n",
      "|1100751010597912576|1032591398657314817|             Palestine|       10238.0|        10118.0|           2018-08-23|            fa|     false|       68.0|       68.0|      68.0|         68.0|\n",
      "| 931250203084115968| 770661709073686529|                 طهران|       20256.0|         3842.0|           2016-08-30|            fa|     false|       97.0|       97.0|      97.0|         97.0|\n",
      "|1019473744740474881| 770661709073686529|                 طهران|       20256.0|         3842.0|           2016-08-30|            fa|     false|       62.0|       62.0|      62.0|         62.0|\n",
      "|1097239416412692481| 829057623773229056|  با افتخار جمهوری ...|       10805.0|         1916.0|           2017-02-07|            fa|     false|       97.0|       97.0|      97.0|         97.0|\n",
      "|1088355943740567552| 984823255906357248|       عند حسن العاقبة|       18099.0|         9861.0|           2018-04-13|            ar|     false|       11.0|       11.0|      11.0|         11.0|\n",
      "|1005778572240355330| 984823255906357248|       عند حسن العاقبة|       18099.0|         9861.0|           2018-04-13|            ar|     false|       12.0|       12.0|      12.0|         12.0|\n",
      "|1015242776928309248| 984823255906357248|       عند حسن العاقبة|       18099.0|         9861.0|           2018-04-13|            fa|     false|       16.0|       16.0|      16.0|         16.0|\n",
      "|1007286630233751552| 842016302717845504|  ساکن قم، متولد آذ...|       15259.0|         1172.0|           2017-03-15|            fa|     false|      349.0|      349.0|     349.0|        349.0|\n",
      "|1085275820309073920| 984823255906357248|       عند حسن العاقبة|       18099.0|         9861.0|           2018-04-13|            ar|     false|        4.0|        4.0|       4.0|          4.0|\n",
      "+-------------------+-------------------+----------------------+--------------+---------------+---------------------+--------------+----------+-----------+-----------+----------+-------------+\n",
      "only showing top 10 rows\n",
      "\n",
      "root\n",
      " |-- tweetid: long (nullable = true)\n",
      " |-- userid: long (nullable = true)\n",
      " |-- user_reported_location: string (nullable = true)\n",
      " |-- follower_count: double (nullable = true)\n",
      " |-- following_count: double (nullable = true)\n",
      " |-- account_creation_date: date (nullable = true)\n",
      " |-- tweet_language: string (nullable = true)\n",
      " |-- is_retweet: boolean (nullable = true)\n",
      " |-- quote_count: double (nullable = true)\n",
      " |-- reply_count: double (nullable = true)\n",
      " |-- like_count: double (nullable = true)\n",
      " |-- retweet_count: double (nullable = true)\n",
      "\n"
     ]
    }
   ],
   "source": [
    "from pyspark.sql.types import *\n",
    "from pyspark.sql.functions import *\n",
    "from pyspark.sql import SparkSession\n",
    "\n",
    "from pyspark.ml import Pipeline\n",
    "from pyspark.ml.feature import VectorAssembler, StringIndexer, VectorIndexer, MinMaxScaler\n",
    "from pyspark.ml.regression import GBTRegressor\n",
    "from pyspark.ml.classification import LogisticRegression\n",
    "from pyspark.ml.tuning import ParamGridBuilder, CrossValidator\n",
    "from pyspark.ml.evaluation import RegressionEvaluator, BinaryClassificationEvaluator\n",
    "\n",
    "spark = SparkSession.builder.master(\"local[*]\").getOrCreate()\n",
    "filename_data = 'processed_data/iran_201906_2_tweets_csv_hashed.csv'\n",
    "csv = spark.read.csv(filename_data, inferSchema=True, header=True)\n",
    "csv.show(10)\n",
    "csv.printSchema()"
   ]
  },
  {
   "cell_type": "markdown",
   "id": "a1d642c7-72c4-40c5-a212-35e2d1d9e2cc",
   "metadata": {},
   "source": [
    "#### Будем использовать только числовые признаки:"
   ]
  },
  {
   "cell_type": "code",
   "execution_count": 2,
   "id": "d0d73d3c-951e-4dea-8846-bf309cdbd957",
   "metadata": {},
   "outputs": [
    {
     "name": "stdout",
     "output_type": "stream",
     "text": [
      "+--------------+---------------+-----------+-----------+----------+-------------+\n",
      "|follower_count|following_count|quote_count|reply_count|like_count|retweet_count|\n",
      "+--------------+---------------+-----------+-----------+----------+-------------+\n",
      "|       10238.0|        10118.0|       90.0|       90.0|      90.0|         90.0|\n",
      "|       10238.0|        10118.0|       68.0|       68.0|      68.0|         68.0|\n",
      "|       20256.0|         3842.0|       97.0|       97.0|      97.0|         97.0|\n",
      "|       20256.0|         3842.0|       62.0|       62.0|      62.0|         62.0|\n",
      "|       10805.0|         1916.0|       97.0|       97.0|      97.0|         97.0|\n",
      "|       18099.0|         9861.0|       11.0|       11.0|      11.0|         11.0|\n",
      "|       18099.0|         9861.0|       12.0|       12.0|      12.0|         12.0|\n",
      "|       18099.0|         9861.0|       16.0|       16.0|      16.0|         16.0|\n",
      "|       15259.0|         1172.0|      349.0|      349.0|     349.0|        349.0|\n",
      "|       18099.0|         9861.0|        4.0|        4.0|       4.0|          4.0|\n",
      "|       18099.0|         9861.0|        0.0|        0.0|       0.0|          0.0|\n",
      "|       18099.0|         9861.0|        2.0|        2.0|       2.0|          2.0|\n",
      "|        9847.0|          848.0|      114.0|      114.0|     114.0|        114.0|\n",
      "|       11976.0|          462.0|        6.0|        6.0|       6.0|          6.0|\n",
      "|       13172.0|          174.0|        1.0|        1.0|       1.0|          1.0|\n",
      "|       18099.0|         9861.0|        9.0|        9.0|       9.0|          9.0|\n",
      "|        9847.0|          848.0|       39.0|       39.0|      39.0|         39.0|\n",
      "|        9847.0|          848.0|       46.0|       46.0|      46.0|         46.0|\n",
      "|       13403.0|         1784.0|      242.0|      242.0|     242.0|        242.0|\n",
      "|       10238.0|        10118.0|      146.0|      146.0|     146.0|        146.0|\n",
      "+--------------+---------------+-----------+-----------+----------+-------------+\n",
      "only showing top 20 rows\n",
      "\n"
     ]
    }
   ],
   "source": [
    "data = csv.select(\"follower_count\", \"following_count\", \"quote_count\", \"reply_count\", \"like_count\", \"retweet_count\")\n",
    "data.show(20)"
   ]
  },
  {
   "cell_type": "markdown",
   "id": "a9f9d7c2-f786-426c-943e-85e5d51b42f3",
   "metadata": {},
   "source": [
    "#### Разделим данные на обучающую и тестовую выборку:\n",
    "##### Будем использовать 70% данных для обучения и 30% для тестирования."
   ]
  },
  {
   "cell_type": "code",
   "execution_count": 3,
   "id": "c8c8059e-4550-4d0d-a6bc-4edc8e4c0ef8",
   "metadata": {},
   "outputs": [
    {
     "name": "stdout",
     "output_type": "stream",
     "text": [
      "Training Rows: 93158  Testing Rows: 39952\n"
     ]
    }
   ],
   "source": [
    "splits = data.randomSplit([0.7, 0.3])\n",
    "train = splits[0]\n",
    "test = splits[1]\n",
    "train_rows = train.count()\n",
    "test_rows = test.count()\n",
    "print(\"Training Rows:\", train_rows, \" Testing Rows:\", test_rows)"
   ]
  },
  {
   "cell_type": "markdown",
   "id": "ba9de40d-ac29-4455-a1a9-6ffec4e9c262",
   "metadata": {},
   "source": [
    "#### Определим конвейер:\n",
    "##### Конвейер состоит из серии этапов преобразования и оценки, которые обычно подготавливают фрейм данных для моделирования, а затем обучают прогнозирующую модель. В этом случае вы создадите конвейер с тремя этапами:\n",
    "1. <b>VectorAssembler:</b> Создает вектор непрерывных числовых признаков.\n",
    "\n",
    "2. <b>MinMaxScaler:</b> Нормализует непрерывные числовые характеристики.\n",
    "\n",
    "3. <b>Gradient-boosted tree regression:</b> Обучает модель регрессии."
   ]
  },
  {
   "cell_type": "code",
   "execution_count": 4,
   "id": "22f94674-44f6-4feb-ba48-4591ae22727c",
   "metadata": {},
   "outputs": [],
   "source": [
    "numVect = VectorAssembler(inputCols = [\"follower_count\", \"following_count\", \"quote_count\", \"reply_count\", \"like_count\", \"retweet_count\"], outputCol=\"numFeatures\")\n",
    "minMax = MinMaxScaler(inputCol = numVect.getOutputCol(), outputCol=\"features\")\n",
    "\n",
    "gbtr = GBTRegressor(featuresCol = 'features', labelCol='quote_count', maxIter = 5, maxDepth=2)\n",
    "\n",
    "pipeline = Pipeline(stages=[numVect, minMax, gbtr])"
   ]
  },
  {
   "cell_type": "markdown",
   "id": "8862f012-3309-4555-b691-f0a39c8c9b32",
   "metadata": {},
   "source": [
    "#### Запускаем конвейер:"
   ]
  },
  {
   "cell_type": "code",
   "execution_count": 5,
   "id": "3527bb3d-a1f3-4688-a933-08b58b544334",
   "metadata": {},
   "outputs": [],
   "source": [
    "piplineModel = pipeline.fit(train)"
   ]
  },
  {
   "cell_type": "markdown",
   "id": "4ea24259-64e3-470d-b1fb-30b978adcc12",
   "metadata": {},
   "source": [
    "#### Генерируем предсказываемые значения:"
   ]
  },
  {
   "cell_type": "code",
   "execution_count": 6,
   "id": "0cacbc75-2239-4a19-b546-b65905f0a468",
   "metadata": {},
   "outputs": [
    {
     "name": "stdout",
     "output_type": "stream",
     "text": [
      "+-----------------------------+------------------+-----------+\n",
      "|features                     |prediction        |quote_count|\n",
      "+-----------------------------+------------------+-----------+\n",
      "|(6,[1],[0.05688723835246456])|0.2758940726795321|0.0        |\n",
      "|(6,[1],[0.05688723835246456])|0.2758940726795321|0.0        |\n",
      "|(6,[1],[0.05688723835246456])|0.2758940726795321|0.0        |\n",
      "|(6,[1],[0.05688723835246456])|0.2758940726795321|0.0        |\n",
      "|(6,[1],[0.05688723835246456])|0.2758940726795321|0.0        |\n",
      "|(6,[1],[0.05688723835246456])|0.2758940726795321|0.0        |\n",
      "|(6,[1],[0.05688723835246456])|0.2758940726795321|0.0        |\n",
      "|(6,[1],[0.05688723835246456])|0.2758940726795321|0.0        |\n",
      "|(6,[1],[0.05688723835246456])|0.2758940726795321|0.0        |\n",
      "|(6,[1],[0.05688723835246456])|0.2758940726795321|0.0        |\n",
      "|(6,[1],[0.05688723835246456])|0.2758940726795321|0.0        |\n",
      "|(6,[1],[0.05688723835246456])|0.2758940726795321|0.0        |\n",
      "|(6,[1],[0.05688723835246456])|0.2758940726795321|0.0        |\n",
      "|(6,[1],[0.05688723835246456])|0.2758940726795321|0.0        |\n",
      "|(6,[1],[0.05688723835246456])|0.2758940726795321|0.0        |\n",
      "|(6,[1],[0.05688723835246456])|0.2758940726795321|0.0        |\n",
      "|(6,[1],[0.05688723835246456])|0.2758940726795321|0.0        |\n",
      "|(6,[1],[0.05688723835246456])|0.2758940726795321|0.0        |\n",
      "|(6,[1],[0.05688723835246456])|0.2758940726795321|0.0        |\n",
      "|(6,[1],[0.05688723835246456])|0.2758940726795321|0.0        |\n",
      "+-----------------------------+------------------+-----------+\n",
      "only showing top 20 rows\n",
      "\n"
     ]
    }
   ],
   "source": [
    "prediction = piplineModel.transform(test)\n",
    "predicted = prediction.select(\"features\", \"prediction\", \"quote_count\")\n",
    "predicted.show(20, truncate=False)"
   ]
  },
  {
   "cell_type": "markdown",
   "id": "c4044b97-27a0-4d57-8cda-87367ec4f10e",
   "metadata": {},
   "source": [
    "#### Выводим метрики для оценки модели:"
   ]
  },
  {
   "cell_type": "code",
   "execution_count": 7,
   "id": "608e9fef-bf94-4ae7-82c7-864e54e6fc74",
   "metadata": {},
   "outputs": [
    {
     "name": "stdout",
     "output_type": "stream",
     "text": [
      "The RMSE for the Gradient-boosted tree regression model is 32.32\n",
      "The MSE for the Gradient-boosted tree regression model is 1044.42\n",
      "The R2 for the Gradient-boosted tree regression model is 0.53\n",
      "The MAE for the Gradient-boosted tree regression model is 3.90\n"
     ]
    }
   ],
   "source": [
    "regressionEvaluator = RegressionEvaluator(predictionCol=\"prediction\", labelCol=\"quote_count\", metricName=\"rmse\")\n",
    "# RMSE\n",
    "rmse = regressionEvaluator.evaluate(prediction)\n",
    "print(f\"The RMSE for the Gradient-boosted tree regression model is {rmse:0.2f}\")\n",
    "# MSE\n",
    "mse = regressionEvaluator.setMetricName(\"mse\").evaluate(prediction)\n",
    "print(f\"The MSE for the Gradient-boosted tree regression model is {mse:0.2f}\")\n",
    "# R2\n",
    "r2 = regressionEvaluator.setMetricName(\"r2\").evaluate(prediction)\n",
    "print(f\"The R2 for the Gradient-boosted tree regression model is {r2:0.2f}\")\n",
    "# MAE\n",
    "mae = regressionEvaluator.setMetricName(\"mae\").evaluate(prediction)\n",
    "print(f\"The MAE for the Gradient-boosted tree regression model is {mae:0.2f}\")"
   ]
  },
  {
   "cell_type": "markdown",
   "id": "49f1b2d8-b750-4562-bad2-733a5eae2543",
   "metadata": {},
   "source": [
    "#### Создадим параметрическую сетку для настройки модели:"
   ]
  },
  {
   "cell_type": "code",
   "execution_count": 8,
   "id": "4c38a42d-f03a-41d0-8039-b3647e77ab8f",
   "metadata": {},
   "outputs": [],
   "source": [
    "param_grid = (ParamGridBuilder()\n",
    "    .addGrid(gbtr.maxDepth, [2, 4, 6])\n",
    "    .addGrid(gbtr.maxBins, [20, 60])\n",
    "    .addGrid(gbtr.maxIter, [10, 20])\n",
    "    .build())"
   ]
  },
  {
   "cell_type": "markdown",
   "id": "89d8a488-699b-41fe-baf8-ceb9137ebfdd",
   "metadata": {},
   "source": [
    "#### Устанавливаем оптимальные параметры для модели с помощью кросс-валидации:"
   ]
  },
  {
   "cell_type": "code",
   "execution_count": 9,
   "id": "1be3b749-79ec-42a4-ab28-7ffc09a15f47",
   "metadata": {},
   "outputs": [],
   "source": [
    "cv = CrossValidator(estimator=pipeline, \\\n",
    "                    estimatorParamMaps=param_grid, \\\n",
    "                    evaluator=RegressionEvaluator(\n",
    "                                predictionCol=\"prediction\", \\\n",
    "                                labelCol=\"quote_count\", \\\n",
    "                                metricName=\"rmse\"), \\\n",
    "                    numFolds=2)"
   ]
  },
  {
   "cell_type": "markdown",
   "id": "1c359a52-c502-48ba-827f-fe3c1f8a47da",
   "metadata": {},
   "source": [
    "#### Запускаем конвейер с оптимальными параметрами:"
   ]
  },
  {
   "cell_type": "code",
   "execution_count": 10,
   "id": "a9499b00-3dd6-4c21-9a89-aa86223589c1",
   "metadata": {},
   "outputs": [],
   "source": [
    "cv_model = cv.fit(train)"
   ]
  },
  {
   "cell_type": "markdown",
   "id": "90c9c3c8-6ddc-45ef-83e7-5446b75c7165",
   "metadata": {},
   "source": [
    "#### Предсказываем результаты на тестовом наборе данных:"
   ]
  },
  {
   "cell_type": "code",
   "execution_count": 11,
   "id": "ca91fde8-8d60-4f7b-bea1-743a5f19510d",
   "metadata": {},
   "outputs": [],
   "source": [
    "newPrediction = cv_model.transform(test)"
   ]
  },
  {
   "cell_type": "markdown",
   "id": "60737f4d-b6e4-49e1-aa94-c326fba35f0f",
   "metadata": {},
   "source": [
    "#### Выведем метрики для оценки модели после кросс-валидации:"
   ]
  },
  {
   "cell_type": "code",
   "execution_count": 12,
   "id": "f860ea04-6fa8-458a-af01-cf5a06a06ffe",
   "metadata": {},
   "outputs": [
    {
     "name": "stdout",
     "output_type": "stream",
     "text": [
      "The RMSE for the Gradient-boosted tree regression model is 2.28\n",
      "The MSE for the Gradient-boosted tree regression model is 749.18\n",
      "The R2 for the Gradient-boosted tree regression model is 0.66\n",
      "The MAE for the Gradient-boosted tree regression model is 2.28\n"
     ]
    }
   ],
   "source": [
    "# RMSE\n",
    "rmse = regressionEvaluator.evaluate(newPrediction)\n",
    "print(f\"The RMSE for the Gradient-boosted tree regression model is {rmse:0.2f}\")\n",
    "# MSE\n",
    "mse = regressionEvaluator.setMetricName(\"mse\").evaluate(newPrediction)\n",
    "print(f\"The MSE for the Gradient-boosted tree regression model is {mse:0.2f}\")\n",
    "# R2\n",
    "r2 = regressionEvaluator.setMetricName(\"r2\").evaluate(newPrediction)\n",
    "print(f\"The R2 for the Gradient-boosted tree regression model is {r2:0.2f}\")\n",
    "# MAE\n",
    "mae = regressionEvaluator.setMetricName(\"mae\").evaluate(newPrediction)\n",
    "print(f\"The MAE for the Gradient-boosted tree regression model is {mae:0.2f}\")"
   ]
  },
  {
   "cell_type": "markdown",
   "id": "a4a7a0b6-de44-4dca-a25b-5cf42bb96cc7",
   "metadata": {},
   "source": [
    "### Задача классификации - LogisticRegression:\n",
    "#### Используем уже имеющийся бинарный признак - \"is_retweet\""
   ]
  },
  {
   "cell_type": "code",
   "execution_count": 13,
   "id": "ba61282a-1730-4ebd-8cdc-24b8e4cca7b5",
   "metadata": {},
   "outputs": [
    {
     "name": "stdout",
     "output_type": "stream",
     "text": [
      "+-------------------+-------------------+----------------------+--------------+---------------+---------------------+--------------+----------+-----------+-----------+----------+-------------+-----+\n",
      "|            tweetid|             userid|user_reported_location|follower_count|following_count|account_creation_date|tweet_language|is_retweet|quote_count|reply_count|like_count|retweet_count|label|\n",
      "+-------------------+-------------------+----------------------+--------------+---------------+---------------------+--------------+----------+-----------+-----------+----------+-------------+-----+\n",
      "|1088195741615501312|1032591398657314817|             Palestine|       10238.0|        10118.0|           2018-08-23|            fa|     false|       90.0|       90.0|      90.0|         90.0|    0|\n",
      "|1100751010597912576|1032591398657314817|             Palestine|       10238.0|        10118.0|           2018-08-23|            fa|     false|       68.0|       68.0|      68.0|         68.0|    0|\n",
      "| 931250203084115968| 770661709073686529|                 طهران|       20256.0|         3842.0|           2016-08-30|            fa|     false|       97.0|       97.0|      97.0|         97.0|    0|\n",
      "|1019473744740474881| 770661709073686529|                 طهران|       20256.0|         3842.0|           2016-08-30|            fa|     false|       62.0|       62.0|      62.0|         62.0|    0|\n",
      "|1097239416412692481| 829057623773229056|  با افتخار جمهوری ...|       10805.0|         1916.0|           2017-02-07|            fa|     false|       97.0|       97.0|      97.0|         97.0|    0|\n",
      "|1088355943740567552| 984823255906357248|       عند حسن العاقبة|       18099.0|         9861.0|           2018-04-13|            ar|     false|       11.0|       11.0|      11.0|         11.0|    0|\n",
      "|1005778572240355330| 984823255906357248|       عند حسن العاقبة|       18099.0|         9861.0|           2018-04-13|            ar|     false|       12.0|       12.0|      12.0|         12.0|    0|\n",
      "|1015242776928309248| 984823255906357248|       عند حسن العاقبة|       18099.0|         9861.0|           2018-04-13|            fa|     false|       16.0|       16.0|      16.0|         16.0|    0|\n",
      "|1007286630233751552| 842016302717845504|  ساکن قم، متولد آذ...|       15259.0|         1172.0|           2017-03-15|            fa|     false|      349.0|      349.0|     349.0|        349.0|    0|\n",
      "|1085275820309073920| 984823255906357248|       عند حسن العاقبة|       18099.0|         9861.0|           2018-04-13|            ar|     false|        4.0|        4.0|       4.0|          4.0|    0|\n",
      "+-------------------+-------------------+----------------------+--------------+---------------+---------------------+--------------+----------+-----------+-----------+----------+-------------+-----+\n",
      "only showing top 10 rows\n",
      "\n",
      "root\n",
      " |-- tweetid: long (nullable = true)\n",
      " |-- userid: long (nullable = true)\n",
      " |-- user_reported_location: string (nullable = true)\n",
      " |-- follower_count: double (nullable = true)\n",
      " |-- following_count: double (nullable = true)\n",
      " |-- account_creation_date: date (nullable = true)\n",
      " |-- tweet_language: string (nullable = true)\n",
      " |-- is_retweet: boolean (nullable = true)\n",
      " |-- quote_count: double (nullable = true)\n",
      " |-- reply_count: double (nullable = true)\n",
      " |-- like_count: double (nullable = true)\n",
      " |-- retweet_count: double (nullable = true)\n",
      " |-- label: integer (nullable = false)\n",
      "\n"
     ]
    }
   ],
   "source": [
    "csv = csv.withColumn(\"label\", when(col(\"is_retweet\") == True, 1).otherwise(0))\n",
    "csv.show(10)\n",
    "csv.printSchema()"
   ]
  },
  {
   "cell_type": "markdown",
   "id": "b6f6b70f-9e85-463a-994a-12372b3960b8",
   "metadata": {},
   "source": [
    "#### Будем использовать только числовые признаки и бинарный:"
   ]
  },
  {
   "cell_type": "code",
   "execution_count": 14,
   "id": "e934c01c-630b-44d3-b68e-fe27e53ebb92",
   "metadata": {},
   "outputs": [
    {
     "name": "stdout",
     "output_type": "stream",
     "text": [
      "+--------------+---------------+-----------+-----------+----------+-------------+-----+\n",
      "|follower_count|following_count|quote_count|reply_count|like_count|retweet_count|label|\n",
      "+--------------+---------------+-----------+-----------+----------+-------------+-----+\n",
      "|       10238.0|        10118.0|       90.0|       90.0|      90.0|         90.0|    0|\n",
      "|       10238.0|        10118.0|       68.0|       68.0|      68.0|         68.0|    0|\n",
      "|       20256.0|         3842.0|       97.0|       97.0|      97.0|         97.0|    0|\n",
      "|       20256.0|         3842.0|       62.0|       62.0|      62.0|         62.0|    0|\n",
      "|       10805.0|         1916.0|       97.0|       97.0|      97.0|         97.0|    0|\n",
      "|       18099.0|         9861.0|       11.0|       11.0|      11.0|         11.0|    0|\n",
      "|       18099.0|         9861.0|       12.0|       12.0|      12.0|         12.0|    0|\n",
      "|       18099.0|         9861.0|       16.0|       16.0|      16.0|         16.0|    0|\n",
      "|       15259.0|         1172.0|      349.0|      349.0|     349.0|        349.0|    0|\n",
      "|       18099.0|         9861.0|        4.0|        4.0|       4.0|          4.0|    0|\n",
      "|       18099.0|         9861.0|        0.0|        0.0|       0.0|          0.0|    0|\n",
      "|       18099.0|         9861.0|        2.0|        2.0|       2.0|          2.0|    0|\n",
      "|        9847.0|          848.0|      114.0|      114.0|     114.0|        114.0|    0|\n",
      "|       11976.0|          462.0|        6.0|        6.0|       6.0|          6.0|    0|\n",
      "|       13172.0|          174.0|        1.0|        1.0|       1.0|          1.0|    0|\n",
      "|       18099.0|         9861.0|        9.0|        9.0|       9.0|          9.0|    0|\n",
      "|        9847.0|          848.0|       39.0|       39.0|      39.0|         39.0|    0|\n",
      "|        9847.0|          848.0|       46.0|       46.0|      46.0|         46.0|    0|\n",
      "|       13403.0|         1784.0|      242.0|      242.0|     242.0|        242.0|    0|\n",
      "|       10238.0|        10118.0|      146.0|      146.0|     146.0|        146.0|    0|\n",
      "+--------------+---------------+-----------+-----------+----------+-------------+-----+\n",
      "only showing top 20 rows\n",
      "\n"
     ]
    }
   ],
   "source": [
    "data = csv.select(\"follower_count\", \"following_count\", \"quote_count\", \"reply_count\", \"like_count\", \"retweet_count\", \"label\")\n",
    "data.show(20)"
   ]
  },
  {
   "cell_type": "markdown",
   "id": "8a9bb84f-a4b1-4561-9375-17701629f178",
   "metadata": {},
   "source": [
    "#### Разделим данные на обучающую и тестовую выборку:\n",
    "##### Будем использовать 70% данных для обучения и 30% для тестирования."
   ]
  },
  {
   "cell_type": "code",
   "execution_count": 15,
   "id": "50fe94e6-7aea-4842-aa88-ac01a657c23e",
   "metadata": {},
   "outputs": [
    {
     "name": "stdout",
     "output_type": "stream",
     "text": [
      "Training Rows: 93147  Testing Rows: 39963\n"
     ]
    }
   ],
   "source": [
    "splits = data.randomSplit([0.7, 0.3])\n",
    "train = splits[0]\n",
    "test = splits[1]\n",
    "train_rows = train.count()\n",
    "test_rows = test.count()\n",
    "print(\"Training Rows:\", train_rows, \" Testing Rows:\", test_rows)"
   ]
  },
  {
   "cell_type": "markdown",
   "id": "86921876-f279-4b23-b1aa-dccfd10ab75c",
   "metadata": {},
   "source": [
    "#### Определим конвейер:\n",
    "##### Конвейер состоит из серии этапов преобразования и оценки, которые обычно подготавливают фрейм данных для моделирования, а затем обучают прогнозирующую модель. В этом случае вы создадите конвейер с тремя этапами:\n",
    "1. <b>VectorAssembler:</b> Создает вектор непрерывных числовых признаков.\n",
    "\n",
    "2. <b>MinMaxScaler:</b> Нормализует непрерывные числовые характеристики.\n",
    "\n",
    "3. <b>Logistic Regression:</b> Обучает модель классификации."
   ]
  },
  {
   "cell_type": "code",
   "execution_count": 16,
   "id": "e37910dd-85cb-4e94-8f0b-8dbd10d5585a",
   "metadata": {},
   "outputs": [],
   "source": [
    "numVect = VectorAssembler(inputCols = [\"follower_count\", \"following_count\", \"quote_count\", \"reply_count\", \"like_count\", \"retweet_count\"], outputCol=\"numFeatures\")\n",
    "minMax = MinMaxScaler(inputCol = numVect.getOutputCol(), outputCol=\"features\")\n",
    "\n",
    "lr = LogisticRegression(labelCol=\"label\", \n",
    "                        featuresCol=\"features\", \n",
    "                        maxIter=10,\n",
    "                        regParam=0.3)\n",
    "\n",
    "pipeline = Pipeline(stages=[numVect, minMax, lr])"
   ]
  },
  {
   "cell_type": "markdown",
   "id": "25ec1997-bc2f-47a7-bbe1-20cdaf60ceba",
   "metadata": {},
   "source": [
    "#### Запускаем конвейер:"
   ]
  },
  {
   "cell_type": "code",
   "execution_count": 17,
   "id": "fa206e4c-d530-4919-b4d5-4246d53f5649",
   "metadata": {},
   "outputs": [],
   "source": [
    "piplineModel = pipeline.fit(train)"
   ]
  },
  {
   "cell_type": "markdown",
   "id": "75106135-332a-4765-b259-0372caf9d9f6",
   "metadata": {},
   "source": [
    "#### Генерируем предсказываемые значения:"
   ]
  },
  {
   "cell_type": "code",
   "execution_count": 18,
   "id": "de045ea7-d5f2-43f3-b644-e98b3dafa352",
   "metadata": {},
   "outputs": [
    {
     "name": "stdout",
     "output_type": "stream",
     "text": [
      "+-----------------------------+----------+-----+\n",
      "|features                     |prediction|label|\n",
      "+-----------------------------+----------+-----+\n",
      "|(6,[1],[0.05688723835246456])|0.0       |0    |\n",
      "|(6,[1],[0.05688723835246456])|0.0       |0    |\n",
      "|(6,[1],[0.05688723835246456])|0.0       |0    |\n",
      "|(6,[1],[0.05688723835246456])|0.0       |0    |\n",
      "|(6,[1],[0.05688723835246456])|0.0       |0    |\n",
      "|(6,[1],[0.05688723835246456])|0.0       |0    |\n",
      "|(6,[1],[0.05688723835246456])|0.0       |0    |\n",
      "|(6,[1],[0.05688723835246456])|0.0       |0    |\n",
      "|(6,[1],[0.05688723835246456])|0.0       |0    |\n",
      "|(6,[1],[0.05688723835246456])|0.0       |0    |\n",
      "|(6,[1],[0.05688723835246456])|0.0       |0    |\n",
      "|(6,[1],[0.05688723835246456])|0.0       |0    |\n",
      "|(6,[1],[0.05688723835246456])|0.0       |0    |\n",
      "|(6,[1],[0.05688723835246456])|0.0       |0    |\n",
      "|(6,[1],[0.05688723835246456])|0.0       |0    |\n",
      "|(6,[1],[0.05688723835246456])|0.0       |0    |\n",
      "|(6,[1],[0.05688723835246456])|0.0       |0    |\n",
      "|(6,[1],[0.05688723835246456])|0.0       |0    |\n",
      "|(6,[1],[0.05688723835246456])|0.0       |0    |\n",
      "|(6,[1],[0.05688723835246456])|0.0       |0    |\n",
      "+-----------------------------+----------+-----+\n",
      "only showing top 20 rows\n",
      "\n"
     ]
    }
   ],
   "source": [
    "prediction = piplineModel.transform(test)\n",
    "predicted = prediction.select(\"features\", \"prediction\", \"label\")\n",
    "predicted.show(20, truncate=False)"
   ]
  },
  {
   "cell_type": "markdown",
   "id": "088a9d48-f395-424c-9ad3-61a344486961",
   "metadata": {},
   "source": [
    "#### Оценка модели классификации:"
   ]
  },
  {
   "cell_type": "code",
   "execution_count": 19,
   "id": "62e97c9e-2338-4dad-980b-89d8bc88765b",
   "metadata": {},
   "outputs": [
    {
     "name": "stdout",
     "output_type": "stream",
     "text": [
      "+---------+------------------+\n",
      "|   metric|             value|\n",
      "+---------+------------------+\n",
      "|       TP|           17527.0|\n",
      "|       FP|            5786.0|\n",
      "|       TN|           13846.0|\n",
      "|       FN|            2804.0|\n",
      "|Precision|0.7518122935701111|\n",
      "|   Recall|0.8620825340612858|\n",
      "|       F1| 0.803180276784896|\n",
      "+---------+------------------+\n",
      "\n"
     ]
    }
   ],
   "source": [
    "tp = float(predicted.filter(\"prediction == 1.0 AND label == 1\").count())\n",
    "fp = float(predicted.filter(\"prediction == 1.0 AND label == 0\").count())\n",
    "tn = float(predicted.filter(\"prediction == 0.0 AND label == 0\").count())\n",
    "fn = float(predicted.filter(\"prediction == 0.0 AND label == 1\").count())\n",
    "pr = tp / (tp + fp)\n",
    "re = tp / (tp + fn)\n",
    "metrics = spark.createDataFrame([\n",
    " (\"TP\", tp),\n",
    " (\"FP\", fp),\n",
    " (\"TN\", tn),\n",
    " (\"FN\", fn),\n",
    " (\"Precision\", pr),\n",
    " (\"Recall\", re),\n",
    " (\"F1\", 2*pr*re/(re+pr))],[\"metric\", \"value\"])\n",
    "metrics.show()"
   ]
  },
  {
   "cell_type": "markdown",
   "id": "49d76316-0242-47e3-a6ad-0229bfc64a09",
   "metadata": {},
   "source": [
    "#### Оценка качества модели бинарной классификации с использованием метрики AUR:"
   ]
  },
  {
   "cell_type": "code",
   "execution_count": 20,
   "id": "b670f16e-4546-49a4-ac1d-7c0846ab6462",
   "metadata": {},
   "outputs": [
    {
     "name": "stdout",
     "output_type": "stream",
     "text": [
      "AUR =  0.7933823807068797\n"
     ]
    }
   ],
   "source": [
    "evaluator = BinaryClassificationEvaluator(labelCol=\"label\", rawPredictionCol=\"rawPrediction\", metricName=\"areaUnderROC\")\n",
    "aur = evaluator.evaluate(prediction)\n",
    "print (\"AUR = \", aur)"
   ]
  },
  {
   "cell_type": "markdown",
   "id": "36d8620f-4c64-44c1-807b-414b2a0052cf",
   "metadata": {},
   "source": [
    "#### Настройку модели классификации с использованием кросс-валидации:"
   ]
  },
  {
   "cell_type": "code",
   "execution_count": 21,
   "id": "3b297025-e4b9-4f1a-93f0-0d910b1dd29d",
   "metadata": {},
   "outputs": [],
   "source": [
    "paramGrid = ParamGridBuilder().addGrid(lr.regParam, [0.3, 0.1]).addGrid(lr.maxIter, [10, 5]).addGrid(lr.threshold, \n",
    "                                                                                            [0.4, 0.3]).build()\n",
    "cv = CrossValidator(estimator=pipeline, evaluator=BinaryClassificationEvaluator(), estimatorParamMaps=paramGrid, \n",
    "                    numFolds=2)"
   ]
  },
  {
   "cell_type": "markdown",
   "id": "aab24e8a-d2a3-40b8-ab9c-a445ae87c410",
   "metadata": {},
   "source": [
    "#### Запускаем конвейер:"
   ]
  },
  {
   "cell_type": "code",
   "execution_count": 22,
   "id": "5b56a536-7254-4af2-bf28-b0eb1847d664",
   "metadata": {},
   "outputs": [],
   "source": [
    "cv_model = cv.fit(train)"
   ]
  },
  {
   "cell_type": "markdown",
   "id": "31154205-856b-495a-b657-6db545159e9b",
   "metadata": {},
   "source": [
    "#### Предсказываем результаты на тестовом наборе данных:"
   ]
  },
  {
   "cell_type": "code",
   "execution_count": 23,
   "id": "ee53273b-abfa-423c-8460-c84050c8bb83",
   "metadata": {},
   "outputs": [],
   "source": [
    "newPrediction = cv_model.transform(test)"
   ]
  },
  {
   "cell_type": "markdown",
   "id": "3020bf32-c05b-4f7e-8607-2c456769a247",
   "metadata": {},
   "source": [
    "#### Выведем метрики для оценки модели классификации после кросс-валидации:"
   ]
  },
  {
   "cell_type": "code",
   "execution_count": 24,
   "id": "b2514256-34ec-4b46-8b63-bbe2aaa6bfcb",
   "metadata": {},
   "outputs": [
    {
     "name": "stdout",
     "output_type": "stream",
     "text": [
      "+---------+------------------+\n",
      "|   metric|             value|\n",
      "+---------+------------------+\n",
      "|       TP|           17530.0|\n",
      "|       FP|            6122.0|\n",
      "|       TN|           13510.0|\n",
      "|       FN|            2801.0|\n",
      "|Precision|0.7411635379671909|\n",
      "|   Recall|0.8622300919777679|\n",
      "|       F1|0.7971261623809198|\n",
      "+---------+------------------+\n",
      "\n"
     ]
    }
   ],
   "source": [
    "tp2 = float(newPrediction.filter(\"prediction == 1.0 AND label == 1\").count())\n",
    "fp2 = float(newPrediction.filter(\"prediction == 1.0 AND label == 0\").count())\n",
    "tn2 = float(newPrediction.filter(\"prediction == 0.0 AND label == 0\").count())\n",
    "fn2 = float(newPrediction.filter(\"prediction == 0.0 AND label == 1\").count())\n",
    "pr2 = tp2 / (tp2 + fp2)\n",
    "re2 = tp2 / (tp2 + fn2)\n",
    "metrics2 = spark.createDataFrame([\n",
    " (\"TP\", tp2),\n",
    " (\"FP\", fp2),\n",
    " (\"TN\", tn2),\n",
    " (\"FN\", fn2),\n",
    " (\"Precision\", pr2),\n",
    " (\"Recall\", re2),\n",
    " (\"F1\", 2*pr2*re2/(re2+pr2))],[\"metric\", \"value\"])\n",
    "metrics2.show()"
   ]
  },
  {
   "cell_type": "markdown",
   "id": "8aa39220-f34c-40e8-a147-10693b20fdd0",
   "metadata": {},
   "source": [
    "#### Оценка качества модели бинарной классификации с использованием метрики AUR после кросс-валидации:"
   ]
  },
  {
   "cell_type": "code",
   "execution_count": 25,
   "id": "270f0d08-ad29-44f8-95c9-0ed681653539",
   "metadata": {},
   "outputs": [
    {
     "name": "stdout",
     "output_type": "stream",
     "text": [
      "AUR2 =  0.7751961380834235\n"
     ]
    }
   ],
   "source": [
    "evaluator2 = BinaryClassificationEvaluator(labelCol=\"label\", rawPredictionCol=\"prediction\", metricName=\"areaUnderROC\")\n",
    "aur2 = evaluator2.evaluate(newPrediction)\n",
    "print( \"AUR2 = \", aur2)"
   ]
  }
 ],
 "metadata": {
  "kernelspec": {
   "display_name": "Python 3 (ipykernel)",
   "language": "python",
   "name": "python3"
  },
  "language_info": {
   "codemirror_mode": {
    "name": "ipython",
    "version": 3
   },
   "file_extension": ".py",
   "mimetype": "text/x-python",
   "name": "python",
   "nbconvert_exporter": "python",
   "pygments_lexer": "ipython3",
   "version": "3.11.6"
  }
 },
 "nbformat": 4,
 "nbformat_minor": 5
}
