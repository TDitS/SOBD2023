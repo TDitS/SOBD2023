{
 "cells": [
  {
   "cell_type": "markdown",
   "id": "bab269d9-f2e3-4098-adae-55469b6f0684",
   "metadata": {},
   "source": [
    "# Лабораторная работа №1 по дисциплине \"Системы обработки больших данных\"\n",
    "## Подключаем библиотеки и датасет. Определяем колонки по типу, выводим их, а также выполняем вывод части данных\n",
    "### Постановка задачи:\n",
    "#### Цель и задачи работы:\n",
    "1.\tПознакомиться с понятием «большие данные» и способами их обработки;\n",
    "\n",
    "2.\tПознакомиться с инструментом Apache Spark и возможностями, которые он предоставляет для обработки больших данных.\n",
    "\n",
    "3.\tПолучить навыки выполнения разведочного анализа данных использованием pyspark.\n",
    "#### Необходимо провести разведочный анализ датасета с определением:\n",
    "1. типов признаков в датасете;\n",
    "\n",
    "2. пропущенных значений и их устранением;\n",
    "\n",
    "3. выбросов и их устранением;\n",
    "\n",
    "4. расчетом статистических показателей признаков (средних, квартилей и т.д.);\n",
    "\n",
    "5. визуализацией распределения наиболее важных признаков;\n",
    "\n",
    "6. корреляций между признаками."
   ]
  },
  {
   "cell_type": "code",
   "execution_count": 1,
   "id": "f1a82cd8-cfd0-4e22-9a30-6c47389a4ca3",
   "metadata": {},
   "outputs": [],
   "source": [
    "# Import other modules not related to PySpark\n",
    "import os\n",
    "import sys\n",
    "import pandas as pd\n",
    "from pandas import DataFrame\n",
    "import numpy as np\n",
    "import seaborn as sns\n",
    "import matplotlib.pyplot as plt\n",
    "import matplotlib.ticker as mtick\n",
    "import matplotlib\n",
    "import math\n",
    "from IPython.core.interactiveshell import InteractiveShell\n",
    "from datetime import *\n",
    "import statistics as stats\n",
    "from pyspark.sql.functions import percentile_approx, mean, avg, stddev, min, max, when, col, count, length, lag, expr, percent_rank\n",
    "from pyspark.sql.window import Window\n",
    "import pyspark.sql.functions as F\n",
    "from pyspark.ml.feature import VectorAssembler\n",
    "from pyspark.ml.stat import Correlation\n",
    "from pyspark.sql.functions import round\n",
    "InteractiveShell.ast_node_interactivity = \"all\" \n",
    "%matplotlib inline"
   ]
  },
  {
   "cell_type": "code",
   "execution_count": 2,
   "id": "ad70aa89-ecb4-4288-9e2e-00f08cd5ed72",
   "metadata": {},
   "outputs": [
    {
     "name": "stdout",
     "output_type": "stream",
     "text": [
      "Data frame type: <class 'pyspark.sql.dataframe.DataFrame'>\n",
      "Rows count: 7417013\n"
     ]
    }
   ],
   "source": [
    "# Import PySpark related modules\n",
    "import pyspark\n",
    "from pyspark.rdd import RDD\n",
    "from pyspark.sql import Row\n",
    "from pyspark.sql import DataFrame\n",
    "from pyspark.sql import SparkSession\n",
    "from pyspark.sql import SQLContext\n",
    "from pyspark.sql import functions\n",
    "from pyspark.sql.functions import lit, desc, col, size, array_contains\\\n",
    ", isnan, udf, hour, array_min, array_max, countDistinct\n",
    "from pyspark.sql.types import *\n",
    "\n",
    "MAX_MEMORY = '8G'\n",
    "# Initialize a spark session.\n",
    "conf = pyspark.SparkConf().setMaster(\"local[*]\") \\\n",
    "        .set('spark.executor.heartbeatInterval', 10000) \\\n",
    "        .set('spark.network.timeout', 10000) \\\n",
    "        .set(\"spark.core.connection.ack.wait.timeout\", \"3600\") \\\n",
    "        .set(\"spark.executor.memory\", MAX_MEMORY) \\\n",
    "        .set(\"spark.driver.memory\", MAX_MEMORY)\n",
    "def init_spark():\n",
    "    spark = SparkSession \\\n",
    "        .builder \\\n",
    "        .appName(\"Pyspark guide\") \\\n",
    "        .config(conf=conf) \\\n",
    "        .getOrCreate()\n",
    "    return spark\n",
    "\n",
    "spark = init_spark()\n",
    "filename_data = 'data/iran_201906_2_tweets_csv_hashed.csv'\n",
    "# Load the main data set into pyspark data frame \n",
    "df = spark.read.csv(filename_data,header=True, mode=\"DROPMALFORMED\", inferSchema=True)\n",
    "from pyspark.sql.functions import col, array\n",
    "\n",
    "df = df.drop(\"user_profile_description\", \"account_creation_date\", \"user_reported_location\", \"account_language\", \"tweet_text\", \"tweet_time\", \"tweet_client_name\", \"in_reply_to_userid\", \"in_reply_to_tweetid\", \"quoted_tweet_tweetid\", \"retweet_userid\", \"retweet_tweetid\", \"latitude\", \"longitude\", \"user_mentions\", \"poll_choices\", \"hashtags\", \"urls\", \"user_screen_name\", \"user_display_name\", \"user_profile_url\")\n",
    "\n",
    "df = df.withColumn(\"tweetid\", col(\"tweetid\").cast(LongType()))\n",
    "df = df.withColumn(\"userid\", col(\"userid\").cast(LongType()))\n",
    "df = df.withColumn(\"follower_count\", col(\"follower_count\").cast(IntegerType()))\n",
    "df = df.withColumn(\"following_count\", col(\"following_count\").cast(IntegerType()))\n",
    "df = df.withColumn(\"quote_count\", col(\"quote_count\").cast(IntegerType()))\n",
    "df = df.withColumn(\"reply_count\", col(\"reply_count\").cast(IntegerType()))\n",
    "df = df.withColumn(\"like_count\", col(\"like_count\").cast(IntegerType()))\n",
    "df = df.withColumn(\"retweet_count\", col(\"retweet_count\").cast(IntegerType()))\n",
    "df = df.withColumn(\"is_retweet\", col(\"is_retweet\").cast(\"boolean\"))\n",
    "\n",
    "print('Data frame type: ' + str(type(df)))\n",
    "\n",
    "total_twitter_count = df.count()\n",
    "print('Rows count:', total_twitter_count)"
   ]
  },
  {
   "cell_type": "markdown",
   "id": "37cc5703-c990-426e-a40f-46ae919efc2f",
   "metadata": {},
   "source": [
    "### Выполняем разведочный анализ датасета с определением:"
   ]
  },
  {
   "cell_type": "markdown",
   "id": "f7fb47ef-64be-48a0-a760-c88253471948",
   "metadata": {},
   "source": [
    "#### 1. Типы признаков в датасете:"
   ]
  },
  {
   "cell_type": "code",
   "execution_count": 3,
   "id": "7c1576a3-08f1-46c4-8749-0bd194691183",
   "metadata": {},
   "outputs": [
    {
     "name": "stdout",
     "output_type": "stream",
     "text": [
      "Data overview\n",
      "root\n",
      " |-- tweetid: long (nullable = true)\n",
      " |-- userid: long (nullable = true)\n",
      " |-- follower_count: integer (nullable = true)\n",
      " |-- following_count: integer (nullable = true)\n",
      " |-- tweet_language: string (nullable = true)\n",
      " |-- is_retweet: boolean (nullable = true)\n",
      " |-- quote_count: integer (nullable = true)\n",
      " |-- reply_count: integer (nullable = true)\n",
      " |-- like_count: integer (nullable = true)\n",
      " |-- retweet_count: integer (nullable = true)\n",
      "\n",
      "Columns overview\n"
     ]
    },
    {
     "data": {
      "text/html": [
       "<div>\n",
       "<style scoped>\n",
       "    .dataframe tbody tr th:only-of-type {\n",
       "        vertical-align: middle;\n",
       "    }\n",
       "\n",
       "    .dataframe tbody tr th {\n",
       "        vertical-align: top;\n",
       "    }\n",
       "\n",
       "    .dataframe thead th {\n",
       "        text-align: right;\n",
       "    }\n",
       "</style>\n",
       "<table border=\"1\" class=\"dataframe\">\n",
       "  <thead>\n",
       "    <tr style=\"text-align: right;\">\n",
       "      <th></th>\n",
       "      <th>Column Name</th>\n",
       "      <th>Data type</th>\n",
       "    </tr>\n",
       "  </thead>\n",
       "  <tbody>\n",
       "    <tr>\n",
       "      <th>0</th>\n",
       "      <td>tweetid</td>\n",
       "      <td>bigint</td>\n",
       "    </tr>\n",
       "    <tr>\n",
       "      <th>1</th>\n",
       "      <td>userid</td>\n",
       "      <td>bigint</td>\n",
       "    </tr>\n",
       "    <tr>\n",
       "      <th>2</th>\n",
       "      <td>follower_count</td>\n",
       "      <td>int</td>\n",
       "    </tr>\n",
       "    <tr>\n",
       "      <th>3</th>\n",
       "      <td>following_count</td>\n",
       "      <td>int</td>\n",
       "    </tr>\n",
       "    <tr>\n",
       "      <th>4</th>\n",
       "      <td>tweet_language</td>\n",
       "      <td>string</td>\n",
       "    </tr>\n",
       "    <tr>\n",
       "      <th>5</th>\n",
       "      <td>is_retweet</td>\n",
       "      <td>boolean</td>\n",
       "    </tr>\n",
       "    <tr>\n",
       "      <th>6</th>\n",
       "      <td>quote_count</td>\n",
       "      <td>int</td>\n",
       "    </tr>\n",
       "    <tr>\n",
       "      <th>7</th>\n",
       "      <td>reply_count</td>\n",
       "      <td>int</td>\n",
       "    </tr>\n",
       "    <tr>\n",
       "      <th>8</th>\n",
       "      <td>like_count</td>\n",
       "      <td>int</td>\n",
       "    </tr>\n",
       "    <tr>\n",
       "      <th>9</th>\n",
       "      <td>retweet_count</td>\n",
       "      <td>int</td>\n",
       "    </tr>\n",
       "  </tbody>\n",
       "</table>\n",
       "</div>"
      ],
      "text/plain": [
       "       Column Name Data type\n",
       "0          tweetid    bigint\n",
       "1           userid    bigint\n",
       "2   follower_count       int\n",
       "3  following_count       int\n",
       "4   tweet_language    string\n",
       "5       is_retweet   boolean\n",
       "6      quote_count       int\n",
       "7      reply_count       int\n",
       "8       like_count       int\n",
       "9    retweet_count       int"
      ]
     },
     "execution_count": 3,
     "metadata": {},
     "output_type": "execute_result"
    },
    {
     "data": {
      "text/html": [
       "<div>\n",
       "<style scoped>\n",
       "    .dataframe tbody tr th:only-of-type {\n",
       "        vertical-align: middle;\n",
       "    }\n",
       "\n",
       "    .dataframe tbody tr th {\n",
       "        vertical-align: top;\n",
       "    }\n",
       "\n",
       "    .dataframe thead th {\n",
       "        text-align: right;\n",
       "    }\n",
       "</style>\n",
       "<table border=\"1\" class=\"dataframe\">\n",
       "  <thead>\n",
       "    <tr style=\"text-align: right;\">\n",
       "      <th></th>\n",
       "      <th>tweetid</th>\n",
       "      <th>userid</th>\n",
       "      <th>follower_count</th>\n",
       "      <th>following_count</th>\n",
       "      <th>tweet_language</th>\n",
       "      <th>is_retweet</th>\n",
       "      <th>quote_count</th>\n",
       "      <th>reply_count</th>\n",
       "      <th>like_count</th>\n",
       "      <th>retweet_count</th>\n",
       "    </tr>\n",
       "  </thead>\n",
       "  <tbody>\n",
       "    <tr>\n",
       "      <th>0</th>\n",
       "      <td>8.190520e+17</td>\n",
       "      <td>3.232245e+09</td>\n",
       "      <td>NaN</td>\n",
       "      <td>NaN</td>\n",
       "      <td>None</td>\n",
       "      <td>None</td>\n",
       "      <td>NaN</td>\n",
       "      <td>NaN</td>\n",
       "      <td>NaN</td>\n",
       "      <td>NaN</td>\n",
       "    </tr>\n",
       "    <tr>\n",
       "      <th>1</th>\n",
       "      <td>NaN</td>\n",
       "      <td>NaN</td>\n",
       "      <td>NaN</td>\n",
       "      <td>NaN</td>\n",
       "      <td>None</td>\n",
       "      <td>False</td>\n",
       "      <td>NaN</td>\n",
       "      <td>NaN</td>\n",
       "      <td>NaN</td>\n",
       "      <td>NaN</td>\n",
       "    </tr>\n",
       "    <tr>\n",
       "      <th>2</th>\n",
       "      <td>1.000177e+18</td>\n",
       "      <td>3.232245e+09</td>\n",
       "      <td>NaN</td>\n",
       "      <td>NaN</td>\n",
       "      <td>None</td>\n",
       "      <td>None</td>\n",
       "      <td>NaN</td>\n",
       "      <td>NaN</td>\n",
       "      <td>NaN</td>\n",
       "      <td>NaN</td>\n",
       "    </tr>\n",
       "    <tr>\n",
       "      <th>3</th>\n",
       "      <td>NaN</td>\n",
       "      <td>NaN</td>\n",
       "      <td>NaN</td>\n",
       "      <td>NaN</td>\n",
       "      <td>None</td>\n",
       "      <td>None</td>\n",
       "      <td>NaN</td>\n",
       "      <td>NaN</td>\n",
       "      <td>NaN</td>\n",
       "      <td>NaN</td>\n",
       "    </tr>\n",
       "    <tr>\n",
       "      <th>4</th>\n",
       "      <td>NaN</td>\n",
       "      <td>NaN</td>\n",
       "      <td>NaN</td>\n",
       "      <td>NaN</td>\n",
       "      <td>0</td>\n",
       "      <td>None</td>\n",
       "      <td>NaN</td>\n",
       "      <td>NaN</td>\n",
       "      <td>NaN</td>\n",
       "      <td>NaN</td>\n",
       "    </tr>\n",
       "    <tr>\n",
       "      <th>5</th>\n",
       "      <td>1.008078e+18</td>\n",
       "      <td>3.232245e+09</td>\n",
       "      <td>NaN</td>\n",
       "      <td>NaN</td>\n",
       "      <td>None</td>\n",
       "      <td>None</td>\n",
       "      <td>NaN</td>\n",
       "      <td>NaN</td>\n",
       "      <td>NaN</td>\n",
       "      <td>NaN</td>\n",
       "    </tr>\n",
       "    <tr>\n",
       "      <th>6</th>\n",
       "      <td>NaN</td>\n",
       "      <td>NaN</td>\n",
       "      <td>NaN</td>\n",
       "      <td>NaN</td>\n",
       "      <td>None</td>\n",
       "      <td>None</td>\n",
       "      <td>NaN</td>\n",
       "      <td>NaN</td>\n",
       "      <td>NaN</td>\n",
       "      <td>NaN</td>\n",
       "    </tr>\n",
       "    <tr>\n",
       "      <th>7</th>\n",
       "      <td>NaN</td>\n",
       "      <td>NaN</td>\n",
       "      <td>NaN</td>\n",
       "      <td>NaN</td>\n",
       "      <td>None</td>\n",
       "      <td>None</td>\n",
       "      <td>NaN</td>\n",
       "      <td>NaN</td>\n",
       "      <td>NaN</td>\n",
       "      <td>NaN</td>\n",
       "    </tr>\n",
       "    <tr>\n",
       "      <th>8</th>\n",
       "      <td>NaN</td>\n",
       "      <td>NaN</td>\n",
       "      <td>NaN</td>\n",
       "      <td>NaN</td>\n",
       "      <td>2</td>\n",
       "      <td>None</td>\n",
       "      <td>NaN</td>\n",
       "      <td>NaN</td>\n",
       "      <td>NaN</td>\n",
       "      <td>NaN</td>\n",
       "    </tr>\n",
       "    <tr>\n",
       "      <th>9</th>\n",
       "      <td>9.993549e+17</td>\n",
       "      <td>3.232245e+09</td>\n",
       "      <td>NaN</td>\n",
       "      <td>NaN</td>\n",
       "      <td>None</td>\n",
       "      <td>None</td>\n",
       "      <td>NaN</td>\n",
       "      <td>NaN</td>\n",
       "      <td>NaN</td>\n",
       "      <td>NaN</td>\n",
       "    </tr>\n",
       "  </tbody>\n",
       "</table>\n",
       "</div>"
      ],
      "text/plain": [
       "        tweetid        userid  follower_count  following_count tweet_language  \\\n",
       "0  8.190520e+17  3.232245e+09             NaN              NaN           None   \n",
       "1           NaN           NaN             NaN              NaN           None   \n",
       "2  1.000177e+18  3.232245e+09             NaN              NaN           None   \n",
       "3           NaN           NaN             NaN              NaN           None   \n",
       "4           NaN           NaN             NaN              NaN              0   \n",
       "5  1.008078e+18  3.232245e+09             NaN              NaN           None   \n",
       "6           NaN           NaN             NaN              NaN           None   \n",
       "7           NaN           NaN             NaN              NaN           None   \n",
       "8           NaN           NaN             NaN              NaN              2   \n",
       "9  9.993549e+17  3.232245e+09             NaN              NaN           None   \n",
       "\n",
       "  is_retweet  quote_count  reply_count  like_count  retweet_count  \n",
       "0       None          NaN          NaN         NaN            NaN  \n",
       "1      False          NaN          NaN         NaN            NaN  \n",
       "2       None          NaN          NaN         NaN            NaN  \n",
       "3       None          NaN          NaN         NaN            NaN  \n",
       "4       None          NaN          NaN         NaN            NaN  \n",
       "5       None          NaN          NaN         NaN            NaN  \n",
       "6       None          NaN          NaN         NaN            NaN  \n",
       "7       None          NaN          NaN         NaN            NaN  \n",
       "8       None          NaN          NaN         NaN            NaN  \n",
       "9       None          NaN          NaN         NaN            NaN  "
      ]
     },
     "execution_count": 3,
     "metadata": {},
     "output_type": "execute_result"
    }
   ],
   "source": [
    "print('Data overview')\n",
    "df.printSchema()\n",
    "print('Columns overview')\n",
    "pd.DataFrame(df.dtypes, columns = ['Column Name','Data type'])\n",
    "df.limit(10).toPandas()"
   ]
  },
  {
   "cell_type": "markdown",
   "id": "4391ba6b-a3ff-41e1-bad2-2707ff4f6e9f",
   "metadata": {},
   "source": [
    "##### После анализа фрейма было решено оставить 10 колонок для осуществления анализа. Разберем типы признаков:\n",
    "1. tweetid (целое число): Это идентификатор твита. Категориальный признак и является уникальным идентификатором для каждого твита.\n",
    "\n",
    "2. userid (целое число): Это идентификатор пользователя. Категориальный признак и является уникальным идентификатором для каждого пользователя.\n",
    "\n",
    "3. follower_count (целое число): Количество подписчиков у пользователя. Это количественный (непрерывный) признак, так как это число, которое может принимать широкий диапазон значений.\n",
    "\n",
    "4. following_count (целое число): Количество пользователей, на которых подписан данный пользователь. Тоже количественный признак.\n",
    "\n",
    "5. tweet_language (строка): Язык твита. Категориальный признак, представляющий язык твита, например, \"en\" для английского.\n",
    "\n",
    "6. is_retweet (логическое значение): Это булевый признак, представляющий, является ли твит ретвитом или нет.\n",
    "\n",
    "7. quote_count (целое число): Количество цитирований для указанного твита. Количественный признак.\n",
    "\n",
    "8. reply_count (целое число): Количество ответов для указанного твита. Количественный признак.\n",
    "\n",
    "9. like_count (целое число): Количество лайков для указанного твита. Количественный признак.\n",
    "\n",
    "10. retweet_count (целое число): Количество ретвитов для указанного твита. Количественный признак."
   ]
  },
  {
   "cell_type": "markdown",
   "id": "9420be2d-84ab-4ecf-a75c-7a8c1d4b6135",
   "metadata": {},
   "source": [
    "#### 2. Выявление пропущенных значений и их устранение:"
   ]
  },
  {
   "cell_type": "markdown",
   "id": "b0a51ae8-8342-41ae-a808-2640b870649a",
   "metadata": {},
   "source": [
    "##### Определяем пропущенные значения:"
   ]
  },
  {
   "cell_type": "code",
   "execution_count": 4,
   "id": "ff63b7b1-e40c-4b9e-b30f-e01e0de4198a",
   "metadata": {},
   "outputs": [
    {
     "data": {
      "text/html": [
       "<div>\n",
       "<style scoped>\n",
       "    .dataframe tbody tr th:only-of-type {\n",
       "        vertical-align: middle;\n",
       "    }\n",
       "\n",
       "    .dataframe tbody tr th {\n",
       "        vertical-align: top;\n",
       "    }\n",
       "\n",
       "    .dataframe thead th {\n",
       "        text-align: right;\n",
       "    }\n",
       "</style>\n",
       "<table border=\"1\" class=\"dataframe\">\n",
       "  <thead>\n",
       "    <tr style=\"text-align: right;\">\n",
       "      <th></th>\n",
       "      <th>tweetid</th>\n",
       "      <th>userid</th>\n",
       "      <th>follower_count</th>\n",
       "      <th>following_count</th>\n",
       "      <th>tweet_language</th>\n",
       "      <th>is_retweet</th>\n",
       "      <th>quote_count</th>\n",
       "      <th>reply_count</th>\n",
       "      <th>like_count</th>\n",
       "      <th>retweet_count</th>\n",
       "    </tr>\n",
       "  </thead>\n",
       "  <tbody>\n",
       "    <tr>\n",
       "      <th>0</th>\n",
       "      <td>5233116</td>\n",
       "      <td>5823087</td>\n",
       "      <td>6235316</td>\n",
       "      <td>6359126</td>\n",
       "      <td>4935972</td>\n",
       "      <td>6705323</td>\n",
       "      <td>7110660</td>\n",
       "      <td>7109996</td>\n",
       "      <td>7109808</td>\n",
       "      <td>7109766</td>\n",
       "    </tr>\n",
       "  </tbody>\n",
       "</table>\n",
       "</div>"
      ],
      "text/plain": [
       "   tweetid   userid  follower_count  following_count  tweet_language  \\\n",
       "0  5233116  5823087         6235316          6359126         4935972   \n",
       "\n",
       "   is_retweet  quote_count  reply_count  like_count  retweet_count  \n",
       "0     6705323      7110660      7109996     7109808        7109766  "
      ]
     },
     "execution_count": 4,
     "metadata": {},
     "output_type": "execute_result"
    }
   ],
   "source": [
    "string_columns = ['tweet_language', 'is_retweet']\n",
    "numeric_columns = ['tweetid', 'userid', 'follower_count', 'following_count', \"quote_count\", \"reply_count\", \"like_count\", \"retweet_count\"]\n",
    "\n",
    "def view_missing_values_in_columns(string_columns, numeric_columns):\n",
    "    missing_values = {}\n",
    "    for index, column in enumerate(df.columns):\n",
    "        if column in string_columns:\n",
    "            missing_count = df.filter(col(column).eqNullSafe(None) | col(column).isNull()).count()\n",
    "        else: \n",
    "            missing_count = df.where(col(column).isin([None,np.nan]) | col(column).isNull()).count()\n",
    "        missing_values.update({column:missing_count})\n",
    "    \n",
    "    return missing_values\n",
    "\n",
    "pd.DataFrame.from_dict([view_missing_values_in_columns(string_columns, numeric_columns)])"
   ]
  },
  {
   "cell_type": "markdown",
   "id": "24390d4d-20f6-47e9-a976-9601b8aaf52a",
   "metadata": {},
   "source": [
    "##### Осуществляем удаление найденных пропущенных значений:"
   ]
  },
  {
   "cell_type": "code",
   "execution_count": 5,
   "id": "0896468c-0102-4f5a-ac4d-9a68f2a6153b",
   "metadata": {},
   "outputs": [
    {
     "name": "stdout",
     "output_type": "stream",
     "text": [
      "Устранение пропущенных значений прошло успешно\n"
     ]
    }
   ],
   "source": [
    "df = df.dropna()\n",
    "print('Устранение пропущенных значений прошло успешно')"
   ]
  },
  {
   "cell_type": "markdown",
   "id": "2882709f-869d-4b18-b19d-ca5e247848cb",
   "metadata": {},
   "source": [
    "##### Проверяем наличие пропущенных значений после их удаления:"
   ]
  },
  {
   "cell_type": "code",
   "execution_count": 6,
   "id": "04b92d57-1c40-4089-946a-bf5d31fe4bbf",
   "metadata": {},
   "outputs": [
    {
     "data": {
      "text/html": [
       "<div>\n",
       "<style scoped>\n",
       "    .dataframe tbody tr th:only-of-type {\n",
       "        vertical-align: middle;\n",
       "    }\n",
       "\n",
       "    .dataframe tbody tr th {\n",
       "        vertical-align: top;\n",
       "    }\n",
       "\n",
       "    .dataframe thead th {\n",
       "        text-align: right;\n",
       "    }\n",
       "</style>\n",
       "<table border=\"1\" class=\"dataframe\">\n",
       "  <thead>\n",
       "    <tr style=\"text-align: right;\">\n",
       "      <th></th>\n",
       "      <th>tweetid</th>\n",
       "      <th>userid</th>\n",
       "      <th>follower_count</th>\n",
       "      <th>following_count</th>\n",
       "      <th>tweet_language</th>\n",
       "      <th>is_retweet</th>\n",
       "      <th>quote_count</th>\n",
       "      <th>reply_count</th>\n",
       "      <th>like_count</th>\n",
       "      <th>retweet_count</th>\n",
       "    </tr>\n",
       "  </thead>\n",
       "  <tbody>\n",
       "    <tr>\n",
       "      <th>0</th>\n",
       "      <td>0</td>\n",
       "      <td>0</td>\n",
       "      <td>0</td>\n",
       "      <td>0</td>\n",
       "      <td>0</td>\n",
       "      <td>0</td>\n",
       "      <td>0</td>\n",
       "      <td>0</td>\n",
       "      <td>0</td>\n",
       "      <td>0</td>\n",
       "    </tr>\n",
       "  </tbody>\n",
       "</table>\n",
       "</div>"
      ],
      "text/plain": [
       "   tweetid  userid  follower_count  following_count  tweet_language  \\\n",
       "0        0       0               0                0               0   \n",
       "\n",
       "   is_retweet  quote_count  reply_count  like_count  retweet_count  \n",
       "0           0            0            0           0              0  "
      ]
     },
     "execution_count": 6,
     "metadata": {},
     "output_type": "execute_result"
    }
   ],
   "source": [
    "pd.DataFrame.from_dict([view_missing_values_in_columns(string_columns, numeric_columns)])"
   ]
  },
  {
   "cell_type": "markdown",
   "id": "8a16b249-6f20-47ff-8812-73c41a16db74",
   "metadata": {},
   "source": [
    "#### 3. Определение выбросов и их устранение:"
   ]
  },
  {
   "cell_type": "markdown",
   "id": "59bc6309-1c88-4616-8d85-b553846b309f",
   "metadata": {},
   "source": [
    "##### После обработки пропущенных значений формируем статистических данных для числовых столбцов датафрейма, чтобы определить оставшееся количество строк в фрейме:"
   ]
  },
  {
   "cell_type": "code",
   "execution_count": 7,
   "id": "088ef569-ce28-482a-a879-ade48feeb712",
   "metadata": {},
   "outputs": [
    {
     "data": {
      "text/html": [
       "<div>\n",
       "<style scoped>\n",
       "    .dataframe tbody tr th:only-of-type {\n",
       "        vertical-align: middle;\n",
       "    }\n",
       "\n",
       "    .dataframe tbody tr th {\n",
       "        vertical-align: top;\n",
       "    }\n",
       "\n",
       "    .dataframe thead th {\n",
       "        text-align: right;\n",
       "    }\n",
       "</style>\n",
       "<table border=\"1\" class=\"dataframe\">\n",
       "  <thead>\n",
       "    <tr style=\"text-align: right;\">\n",
       "      <th></th>\n",
       "      <th>summary</th>\n",
       "      <th>follower_count</th>\n",
       "      <th>following_count</th>\n",
       "      <th>quote_count</th>\n",
       "      <th>reply_count</th>\n",
       "      <th>like_count</th>\n",
       "      <th>retweet_count</th>\n",
       "    </tr>\n",
       "  </thead>\n",
       "  <tbody>\n",
       "    <tr>\n",
       "      <th>0</th>\n",
       "      <td>count</td>\n",
       "      <td>199496</td>\n",
       "      <td>199496</td>\n",
       "      <td>199496</td>\n",
       "      <td>199496</td>\n",
       "      <td>199496</td>\n",
       "      <td>199496</td>\n",
       "    </tr>\n",
       "    <tr>\n",
       "      <th>1</th>\n",
       "      <td>mean</td>\n",
       "      <td>30182.236355616154</td>\n",
       "      <td>5297.203778521875</td>\n",
       "      <td>0.03739423346834022</td>\n",
       "      <td>0.36610257849781447</td>\n",
       "      <td>4.352809078878774</td>\n",
       "      <td>0.5427176484741548</td>\n",
       "    </tr>\n",
       "    <tr>\n",
       "      <th>2</th>\n",
       "      <td>stddev</td>\n",
       "      <td>44795.3600684094</td>\n",
       "      <td>3713.177710685217</td>\n",
       "      <td>2.2106979300823193</td>\n",
       "      <td>4.259650435247733</td>\n",
       "      <td>41.23013871409342</td>\n",
       "      <td>5.707711377878247</td>\n",
       "    </tr>\n",
       "    <tr>\n",
       "      <th>3</th>\n",
       "      <td>min</td>\n",
       "      <td>0</td>\n",
       "      <td>0</td>\n",
       "      <td>0</td>\n",
       "      <td>0</td>\n",
       "      <td>0</td>\n",
       "      <td>0</td>\n",
       "    </tr>\n",
       "    <tr>\n",
       "      <th>4</th>\n",
       "      <td>max</td>\n",
       "      <td>158248</td>\n",
       "      <td>12022</td>\n",
       "      <td>668</td>\n",
       "      <td>1156</td>\n",
       "      <td>3508</td>\n",
       "      <td>460</td>\n",
       "    </tr>\n",
       "  </tbody>\n",
       "</table>\n",
       "</div>"
      ],
      "text/plain": [
       "  summary      follower_count    following_count          quote_count  \\\n",
       "0   count              199496             199496               199496   \n",
       "1    mean  30182.236355616154  5297.203778521875  0.03739423346834022   \n",
       "2  stddev    44795.3600684094  3713.177710685217   2.2106979300823193   \n",
       "3     min                   0                  0                    0   \n",
       "4     max              158248              12022                  668   \n",
       "\n",
       "           reply_count         like_count       retweet_count  \n",
       "0               199496             199496              199496  \n",
       "1  0.36610257849781447  4.352809078878774  0.5427176484741548  \n",
       "2    4.259650435247733  41.23013871409342   5.707711377878247  \n",
       "3                    0                  0                   0  \n",
       "4                 1156               3508                 460  "
      ]
     },
     "execution_count": 7,
     "metadata": {},
     "output_type": "execute_result"
    }
   ],
   "source": [
    "df.select(df.follower_count, df.following_count, df.quote_count, df.reply_count, df.like_count, df.retweet_count).describe().toPandas()"
   ]
  },
  {
   "cell_type": "markdown",
   "id": "b46493dc-ea51-4fd9-90e3-262da8139f66",
   "metadata": {},
   "source": [
    "##### Осуществим обнаружение и удаление выбросов методом межквартильного интервала (Нахождение 25% и 75% квартилей, межквартильного диапазона):\n",
    "##### Данные колонок \"quote_count\", \"reply_count\", \"like_count\", \"retweet_count\" решено было не удалять, т.к. во всех датасетах это приводит к тому, что все уходит по нулям, т.к. на большинстве записей нет никаких реакций.\n",
    "##### Формируем коробчатые диаграммы для проверки работоспособности метода межквартильного интервала:"
   ]
  },
  {
   "cell_type": "code",
   "execution_count": 8,
   "id": "5c65ff0f-326b-4368-bc6b-f77594076d5e",
   "metadata": {},
   "outputs": [
    {
     "data": {
      "text/plain": [
       "<Figure size 700x500 with 0 Axes>"
      ]
     },
     "execution_count": 8,
     "metadata": {},
     "output_type": "execute_result"
    },
    {
     "data": {
      "text/plain": [
       "{'whiskers': [<matplotlib.lines.Line2D at 0x7fd6cf80de90>,\n",
       "  <matplotlib.lines.Line2D at 0x7fd7156ef4d0>],\n",
       " 'caps': [<matplotlib.lines.Line2D at 0x7fd7156bfd10>,\n",
       "  <matplotlib.lines.Line2D at 0x7fd6cdbc89d0>],\n",
       " 'boxes': [<matplotlib.patches.PathPatch at 0x7fd7156d7990>],\n",
       " 'medians': [<matplotlib.lines.Line2D at 0x7fd6cdbc9310>],\n",
       " 'fliers': [<matplotlib.lines.Line2D at 0x7fd6cdbc9c50>],\n",
       " 'means': []}"
      ]
     },
     "execution_count": 8,
     "metadata": {},
     "output_type": "execute_result"
    },
    {
     "data": {
      "text/plain": [
       "Text(0.5, 1.0, 'Boxplot с выбросами для follower_count')"
      ]
     },
     "execution_count": 8,
     "metadata": {},
     "output_type": "execute_result"
    },
    {
     "data": {
      "text/plain": [
       "Text(0.5, 0, 'Values')"
      ]
     },
     "execution_count": 8,
     "metadata": {},
     "output_type": "execute_result"
    },
    {
     "data": {
      "image/png": "[encoded data removed]",
      "text/plain": [
       "<Figure size 700x500 with 1 Axes>"
      ]
     },
     "metadata": {},
     "output_type": "display_data"
    },
    {
     "data": {
      "text/plain": [
       "<Figure size 700x500 with 0 Axes>"
      ]
     },
     "execution_count": 8,
     "metadata": {},
     "output_type": "execute_result"
    },
    {
     "data": {
      "text/plain": [
       "{'whiskers': [<matplotlib.lines.Line2D at 0x7fd6cf98c690>,\n",
       "  <matplotlib.lines.Line2D at 0x7fd73745b690>],\n",
       " 'caps': [<matplotlib.lines.Line2D at 0x7fd7262b8110>,\n",
       "  <matplotlib.lines.Line2D at 0x7fd7262b89d0>],\n",
       " 'boxes': [<matplotlib.patches.PathPatch at 0x7fd737459dd0>],\n",
       " 'medians': [<matplotlib.lines.Line2D at 0x7fd7262b9250>],\n",
       " 'fliers': [<matplotlib.lines.Line2D at 0x7fd6cf97e590>],\n",
       " 'means': []}"
      ]
     },
     "execution_count": 8,
     "metadata": {},
     "output_type": "execute_result"
    },
    {
     "data": {
      "text/plain": [
       "Text(0.5, 1.0, 'Boxplot с выбросами для following_count')"
      ]
     },
     "execution_count": 8,
     "metadata": {},
     "output_type": "execute_result"
    },
    {
     "data": {
      "text/plain": [
       "Text(0.5, 0, 'Values')"
      ]
     },
     "execution_count": 8,
     "metadata": {},
     "output_type": "execute_result"
    },
    {
     "data": {
      "image/png": "[encoded data removed]",
      "text/plain": [
       "<Figure size 700x500 with 1 Axes>"
      ]
     },
     "metadata": {},
     "output_type": "display_data"
    },
    {
     "data": {
      "text/html": [
       "<div>\n",
       "<style scoped>\n",
       "    .dataframe tbody tr th:only-of-type {\n",
       "        vertical-align: middle;\n",
       "    }\n",
       "\n",
       "    .dataframe tbody tr th {\n",
       "        vertical-align: top;\n",
       "    }\n",
       "\n",
       "    .dataframe thead th {\n",
       "        text-align: right;\n",
       "    }\n",
       "</style>\n",
       "<table border=\"1\" class=\"dataframe\">\n",
       "  <thead>\n",
       "    <tr style=\"text-align: right;\">\n",
       "      <th></th>\n",
       "      <th>summary</th>\n",
       "      <th>follower_count</th>\n",
       "      <th>following_count</th>\n",
       "      <th>quote_count</th>\n",
       "      <th>reply_count</th>\n",
       "      <th>like_count</th>\n",
       "      <th>retweet_count</th>\n",
       "    </tr>\n",
       "  </thead>\n",
       "  <tbody>\n",
       "    <tr>\n",
       "      <th>0</th>\n",
       "      <td>count</td>\n",
       "      <td>174266</td>\n",
       "      <td>174266</td>\n",
       "      <td>174266</td>\n",
       "      <td>174266</td>\n",
       "      <td>174266</td>\n",
       "      <td>174266</td>\n",
       "    </tr>\n",
       "    <tr>\n",
       "      <th>1</th>\n",
       "      <td>mean</td>\n",
       "      <td>14143.411692470132</td>\n",
       "      <td>5001.930870049235</td>\n",
       "      <td>0.04207361160524715</td>\n",
       "      <td>0.39723755637932817</td>\n",
       "      <td>4.912053986434531</td>\n",
       "      <td>0.5267808981671698</td>\n",
       "    </tr>\n",
       "    <tr>\n",
       "      <th>2</th>\n",
       "      <td>stddev</td>\n",
       "      <td>4691.179063080544</td>\n",
       "      <td>3716.542666551062</td>\n",
       "      <td>2.365007475243776</td>\n",
       "      <td>4.550271819685948</td>\n",
       "      <td>44.05023816370654</td>\n",
       "      <td>5.561052115001351</td>\n",
       "    </tr>\n",
       "    <tr>\n",
       "      <th>3</th>\n",
       "      <td>min</td>\n",
       "      <td>0</td>\n",
       "      <td>0</td>\n",
       "      <td>0</td>\n",
       "      <td>0</td>\n",
       "      <td>0</td>\n",
       "      <td>0</td>\n",
       "    </tr>\n",
       "    <tr>\n",
       "      <th>4</th>\n",
       "      <td>max</td>\n",
       "      <td>20874</td>\n",
       "      <td>12022</td>\n",
       "      <td>668</td>\n",
       "      <td>1156</td>\n",
       "      <td>3508</td>\n",
       "      <td>460</td>\n",
       "    </tr>\n",
       "  </tbody>\n",
       "</table>\n",
       "</div>"
      ],
      "text/plain": [
       "  summary      follower_count    following_count          quote_count  \\\n",
       "0   count              174266             174266               174266   \n",
       "1    mean  14143.411692470132  5001.930870049235  0.04207361160524715   \n",
       "2  stddev   4691.179063080544  3716.542666551062    2.365007475243776   \n",
       "3     min                   0                  0                    0   \n",
       "4     max               20874              12022                  668   \n",
       "\n",
       "           reply_count         like_count       retweet_count  \n",
       "0               174266             174266              174266  \n",
       "1  0.39723755637932817  4.912053986434531  0.5267808981671698  \n",
       "2    4.550271819685948  44.05023816370654   5.561052115001351  \n",
       "3                    0                  0                   0  \n",
       "4                 1156               3508                 460  "
      ]
     },
     "execution_count": 8,
     "metadata": {},
     "output_type": "execute_result"
    }
   ],
   "source": [
    "outlier_columns = ['follower_count', 'following_count']\n",
    "for column in outlier_columns:\n",
    "    \n",
    "    Q1 = df.approxQuantile(column, [0.25], relativeError=0)[0]\n",
    "    Q3 = df.approxQuantile(column, [0.75], relativeError=0)[0]\n",
    "    IQR = Q3 - Q1\n",
    "    lower_bound = Q1 - 1.5 * IQR\n",
    "    upper_bound = Q3 + 1.5 * IQR\n",
    "    df = df.filter(col(column).between(lower_bound, upper_bound))\n",
    "    \n",
    "    # Передаем необходимые значения на драйвер для визуализации\n",
    "    boxplot_data = df.select(column).collect()\n",
    "    values = [row[column] for row in boxplot_data]\n",
    "    \n",
    "    # Визуализация выбросов с помощью boxplot\n",
    "    plt.figure(figsize=(7, 5))\n",
    "    plt.boxplot(values, vert=False, widths=0.7, patch_artist=True, showmeans=False, autorange=True)\n",
    "    plt.title('Boxplot с выбросами для {}'.format(column))\n",
    "    plt.xlabel('Values')\n",
    "    plt.show()\n",
    "\n",
    "df.select(['follower_count', 'following_count', 'quote_count', 'reply_count', 'like_count', 'retweet_count']).describe().toPandas()"
   ]
  },
  {
   "cell_type": "markdown",
   "id": "846f95fe-489e-4470-8db7-bac34c6a2ad8",
   "metadata": {},
   "source": [
    "#### 4. Расчет статистических показателей признаков (средних, квартилей и т.д.):"
   ]
  },
  {
   "cell_type": "markdown",
   "id": "93ffe76a-10dd-4590-b4aa-3be49a914c24",
   "metadata": {},
   "source": [
    "##### Выведем типы признаков:"
   ]
  },
  {
   "cell_type": "code",
   "execution_count": 9,
   "id": "e2ae50d3-12de-4fe6-b560-072dad09572e",
   "metadata": {},
   "outputs": [
    {
     "name": "stdout",
     "output_type": "stream",
     "text": [
      "Columns overview\n"
     ]
    },
    {
     "data": {
      "text/html": [
       "<div>\n",
       "<style scoped>\n",
       "    .dataframe tbody tr th:only-of-type {\n",
       "        vertical-align: middle;\n",
       "    }\n",
       "\n",
       "    .dataframe tbody tr th {\n",
       "        vertical-align: top;\n",
       "    }\n",
       "\n",
       "    .dataframe thead th {\n",
       "        text-align: right;\n",
       "    }\n",
       "</style>\n",
       "<table border=\"1\" class=\"dataframe\">\n",
       "  <thead>\n",
       "    <tr style=\"text-align: right;\">\n",
       "      <th></th>\n",
       "      <th>Column Name</th>\n",
       "      <th>Data type</th>\n",
       "    </tr>\n",
       "  </thead>\n",
       "  <tbody>\n",
       "    <tr>\n",
       "      <th>0</th>\n",
       "      <td>tweetid</td>\n",
       "      <td>bigint</td>\n",
       "    </tr>\n",
       "    <tr>\n",
       "      <th>1</th>\n",
       "      <td>userid</td>\n",
       "      <td>bigint</td>\n",
       "    </tr>\n",
       "    <tr>\n",
       "      <th>2</th>\n",
       "      <td>follower_count</td>\n",
       "      <td>int</td>\n",
       "    </tr>\n",
       "    <tr>\n",
       "      <th>3</th>\n",
       "      <td>following_count</td>\n",
       "      <td>int</td>\n",
       "    </tr>\n",
       "    <tr>\n",
       "      <th>4</th>\n",
       "      <td>tweet_language</td>\n",
       "      <td>string</td>\n",
       "    </tr>\n",
       "    <tr>\n",
       "      <th>5</th>\n",
       "      <td>is_retweet</td>\n",
       "      <td>boolean</td>\n",
       "    </tr>\n",
       "    <tr>\n",
       "      <th>6</th>\n",
       "      <td>quote_count</td>\n",
       "      <td>int</td>\n",
       "    </tr>\n",
       "    <tr>\n",
       "      <th>7</th>\n",
       "      <td>reply_count</td>\n",
       "      <td>int</td>\n",
       "    </tr>\n",
       "    <tr>\n",
       "      <th>8</th>\n",
       "      <td>like_count</td>\n",
       "      <td>int</td>\n",
       "    </tr>\n",
       "    <tr>\n",
       "      <th>9</th>\n",
       "      <td>retweet_count</td>\n",
       "      <td>int</td>\n",
       "    </tr>\n",
       "  </tbody>\n",
       "</table>\n",
       "</div>"
      ],
      "text/plain": [
       "       Column Name Data type\n",
       "0          tweetid    bigint\n",
       "1           userid    bigint\n",
       "2   follower_count       int\n",
       "3  following_count       int\n",
       "4   tweet_language    string\n",
       "5       is_retweet   boolean\n",
       "6      quote_count       int\n",
       "7      reply_count       int\n",
       "8       like_count       int\n",
       "9    retweet_count       int"
      ]
     },
     "execution_count": 9,
     "metadata": {},
     "output_type": "execute_result"
    }
   ],
   "source": [
    "print('Columns overview')\n",
    "pd.DataFrame(df.dtypes, columns = ['Column Name','Data type'])"
   ]
  },
  {
   "cell_type": "markdown",
   "id": "c227a4c4-915d-4fe5-a218-54352bbf5475",
   "metadata": {},
   "source": [
    "##### Для реализации этого пункта было решено разобрать категориальные, бинарные и количественные признаки:"
   ]
  },
  {
   "cell_type": "markdown",
   "id": "15ed39cb-9ad3-4552-9ff2-59d1f22e8ba5",
   "metadata": {},
   "source": [
    "##### Обработаем колонки количественных признаков, а также по одной колонке категориального и одной колонки бинарного признака. Начнём с количественных признаков: "
   ]
  },
  {
   "cell_type": "markdown",
   "id": "e943b5c5-3550-429c-8f6f-dbde3bef530f",
   "metadata": {},
   "source": [
    "##### Статистические показатели обширны, вот основные из них:\n",
    "1. Среднее (Mean): Обычно является первым показателем, который рассчитывается для числовых данных. Среднее значение предоставляет информацию о центре распределения данных.\n",
    "\n",
    "2. Медиана (Median): Это значение, которое делит ваш набор данных на две равные части. Она устойчива к выбросам в данных и используется для оценки \"среднего\" значения, если данные имеют асимметричное распределение.\n",
    "\n",
    "3. Квартили (Quartiles): Квартили представляют собой три точки данных, которые делят упорядоченный набор данных на четыре равные части. 25-й квартиль - это значение, которое меньше или равно 25% данных, а 75-й квартиль - это значение, которое меньше или равно 75% данных.\n",
    "\n",
    "4. Мода (Mode): Значение, которое встречается наиболее часто в вашем наборе данных. Мода полезна для определения наиболее распространенных значений в категориальных данных.\n",
    "\n",
    "5. Стандартное отклонение (Standard Deviation): Это мера разброса данных относительно их среднего значения. Она предоставляет информацию о том, насколько разнообразны значения в вашем наборе данных.\n",
    "\n",
    "6. Минимум (Min): Минимальный показатель колонки.\n",
    "\n",
    "7. Максимум (Max): Максимальный показатель колонки.\n",
    "\n",
    "8. Диапазон значений (Range): Простое измерение, которое показывает разницу между самым большим и самым маленьким значениями в наборе данных.\n",
    "\n",
    "9. Квантили (Quantiles): Квантили обобщают понятие квартиля. В то время как квартили делят данные на четыре равные части, квантили позволяют делить данные на более произвольное количество частей."
   ]
  },
  {
   "cell_type": "code",
   "execution_count": 10,
   "id": "db39d0dd-bf57-4ace-b0d9-fb90b7c74ec1",
   "metadata": {},
   "outputs": [
    {
     "name": "stdout",
     "output_type": "stream",
     "text": [
      "            Statistic  follower_count  following_count  quote_count  \\\n",
      "0                Mean    14143.411692      5001.930870     0.042074   \n",
      "1              Median    13403.000000      4278.000000     0.000000   \n",
      "2                Mode    17956.000000      4278.000000     0.000000   \n",
      "3  Standard Deviation     4691.179063      3716.542667     2.365007   \n",
      "4                 Min        0.000000         0.000000     0.000000   \n",
      "5                 Max    20874.000000     12022.000000   668.000000   \n",
      "6               Range    20874.000000     12022.000000   668.000000   \n",
      "7       25th Quantile     9847.000000      1784.000000     0.000000   \n",
      "8       75th Quantile    17956.000000      6120.000000     0.000000   \n",
      "9      95th Quartiles    20874.000000     12022.000000     0.000000   \n",
      "\n",
      "   reply_count   like_count  retweet_count  \n",
      "0     0.397238     4.912054       0.526781  \n",
      "1     0.000000     0.000000       0.000000  \n",
      "2     0.000000     0.000000       0.000000  \n",
      "3     4.550272    44.050238       5.561052  \n",
      "4     0.000000     0.000000       0.000000  \n",
      "5  1156.000000  3508.000000     460.000000  \n",
      "6  1156.000000  3508.000000     460.000000  \n",
      "7     0.000000     0.000000       0.000000  \n",
      "8     0.000000     1.000000       0.000000  \n",
      "9     1.000000     7.000000       1.000000  \n"
     ]
    }
   ],
   "source": [
    "def calculate_statistics(df, columns):\n",
    "    statistics = {'Statistic': ['Mean', 'Median', 'Mode', 'Standard Deviation', 'Min', 'Max', 'Range', '25th Quantile', '75th Quantile', '95th Quartiles']}\n",
    "\n",
    "    for column in columns:\n",
    "        mode_column = df.groupBy(column).count().sort(F.col(\"count\").desc()).select(column).limit(1).collect()[0][0]\n",
    "\n",
    "        column_values = [\n",
    "            df.agg({column: \"avg\"}).collect()[0][0],  # среднее значение\n",
    "            df.approxQuantile(column, [0.5], 0.001)[0],  # медиана\n",
    "            mode_column,  # мода\n",
    "            df.agg({column: \"stddev\"}).collect()[0][0],  # стандартное отклонение\n",
    "            df.agg({column: 'min'}).collect()[0][0], # минимум\n",
    "            df.agg({column: 'max'}).collect()[0][0], # максимум\n",
    "            df.agg({column: 'max'}).collect()[0][0] - df.agg({column: 'min'}).collect()[0][0],  # диапазон\n",
    "            df.approxQuantile(column, [0.25], 0.001)[0],  # 25-й квантиль\n",
    "            df.approxQuantile(column, [0.75], 0.001)[0],  # 50-й квантиль\n",
    "            df.approxQuantile(column, [0.95], 0.001)[0]   # 75-й квантиль\n",
    "        ]\n",
    "        \n",
    "        statistics[f'{column}'] = column_values\n",
    "\n",
    "    # Создаем DataFrame из словаря\n",
    "    statistics_df = pd.DataFrame(statistics)\n",
    "\n",
    "    return statistics_df\n",
    "\n",
    "# Список столбцов для подсчета статистики\n",
    "columns = ['follower_count', 'following_count', 'quote_count', 'reply_count', 'like_count', 'retweet_count']\n",
    "\n",
    "# Получаем DataFrame со статистикой\n",
    "result_df = calculate_statistics(df, columns)\n",
    "\n",
    "# Выводим DataFrame\n",
    "print(result_df)"
   ]
  },
  {
   "cell_type": "markdown",
   "id": "5606ec65-16c1-4720-a921-0439884ec888",
   "metadata": {},
   "source": [
    "##### Категориальные признаки расчитываются с использованием количественных признаков. В данном случае расчитываются:\n",
    "1. Количество (count) - Указывает какое количество значений имеется в колонке.\n",
    "\n",
    "2. Процентиль (percentile) - Процентиль это числовое значение, которое делит упорядоченный набор данных на 100 равных частей. Каждый процентиль представляет собой точку данных, ниже которой падает определенная процентная доля значений в наборе данных (в нашем случае: 25%, 50%, 75% и 95%).\n",
    "\n",
    "3. Минимум (min) - Минимальный количественный показатель категориального признака.\n",
    "\n",
    "4. Максимум (max) - Максимальный количественный показатель категориального признака.\n",
    "\n",
    "5. Среднее (Mean) - Среднее значение количественных показателей категориального признака.\n",
    "\n",
    "6. Стандартное отклонение (stddev) - Мера разброса данных относительно среднего значения количественных показателей категориального признака."
   ]
  },
  {
   "cell_type": "code",
   "execution_count": 11,
   "id": "43b90e3e-6970-4d02-87fc-1d19212892da",
   "metadata": {},
   "outputs": [
    {
     "data": {
      "text/html": [
       "<div>\n",
       "<style scoped>\n",
       "    .dataframe tbody tr th:only-of-type {\n",
       "        vertical-align: middle;\n",
       "    }\n",
       "\n",
       "    .dataframe tbody tr th {\n",
       "        vertical-align: top;\n",
       "    }\n",
       "\n",
       "    .dataframe thead th {\n",
       "        text-align: right;\n",
       "    }\n",
       "</style>\n",
       "<table border=\"1\" class=\"dataframe\">\n",
       "  <thead>\n",
       "    <tr style=\"text-align: right;\">\n",
       "      <th></th>\n",
       "      <th>tweet_language</th>\n",
       "      <th>count</th>\n",
       "      <th>25th percentile</th>\n",
       "      <th>50th percentile</th>\n",
       "      <th>75th percentile</th>\n",
       "      <th>95th percentile</th>\n",
       "      <th>min</th>\n",
       "      <th>max</th>\n",
       "      <th>mean</th>\n",
       "      <th>stddev</th>\n",
       "    </tr>\n",
       "  </thead>\n",
       "  <tbody>\n",
       "    <tr>\n",
       "      <th>0</th>\n",
       "      <td>en</td>\n",
       "      <td>2227</td>\n",
       "      <td>8094</td>\n",
       "      <td>11976</td>\n",
       "      <td>18099</td>\n",
       "      <td>18099</td>\n",
       "      <td>0</td>\n",
       "      <td>20874</td>\n",
       "      <td>12168.157611</td>\n",
       "      <td>5436.065392</td>\n",
       "    </tr>\n",
       "    <tr>\n",
       "      <th>1</th>\n",
       "      <td>ro</td>\n",
       "      <td>4</td>\n",
       "      <td>8094</td>\n",
       "      <td>8094</td>\n",
       "      <td>13172</td>\n",
       "      <td>18099</td>\n",
       "      <td>8094</td>\n",
       "      <td>18099</td>\n",
       "      <td>11864.750000</td>\n",
       "      <td>4796.244599</td>\n",
       "    </tr>\n",
       "    <tr>\n",
       "      <th>2</th>\n",
       "      <td>und</td>\n",
       "      <td>23714</td>\n",
       "      <td>10805</td>\n",
       "      <td>17956</td>\n",
       "      <td>17956</td>\n",
       "      <td>20874</td>\n",
       "      <td>0</td>\n",
       "      <td>20874</td>\n",
       "      <td>15333.944168</td>\n",
       "      <td>4543.076086</td>\n",
       "    </tr>\n",
       "    <tr>\n",
       "      <th>3</th>\n",
       "      <td>ur</td>\n",
       "      <td>63</td>\n",
       "      <td>17956</td>\n",
       "      <td>17956</td>\n",
       "      <td>18099</td>\n",
       "      <td>20874</td>\n",
       "      <td>8094</td>\n",
       "      <td>20874</td>\n",
       "      <td>16677.158730</td>\n",
       "      <td>4175.002948</td>\n",
       "    </tr>\n",
       "    <tr>\n",
       "      <th>4</th>\n",
       "      <td>tl</td>\n",
       "      <td>5</td>\n",
       "      <td>9847</td>\n",
       "      <td>17956</td>\n",
       "      <td>18099</td>\n",
       "      <td>18099</td>\n",
       "      <td>8094</td>\n",
       "      <td>18099</td>\n",
       "      <td>14419.000000</td>\n",
       "      <td>5012.583615</td>\n",
       "    </tr>\n",
       "    <tr>\n",
       "      <th>5</th>\n",
       "      <td>in</td>\n",
       "      <td>22</td>\n",
       "      <td>11976</td>\n",
       "      <td>11976</td>\n",
       "      <td>18099</td>\n",
       "      <td>20874</td>\n",
       "      <td>8094</td>\n",
       "      <td>20874</td>\n",
       "      <td>14460.818182</td>\n",
       "      <td>4426.094706</td>\n",
       "    </tr>\n",
       "    <tr>\n",
       "      <th>6</th>\n",
       "      <td>es</td>\n",
       "      <td>29</td>\n",
       "      <td>8094</td>\n",
       "      <td>17956</td>\n",
       "      <td>18099</td>\n",
       "      <td>18099</td>\n",
       "      <td>8094</td>\n",
       "      <td>20256</td>\n",
       "      <td>14176.344828</td>\n",
       "      <td>4659.977401</td>\n",
       "    </tr>\n",
       "    <tr>\n",
       "      <th>7</th>\n",
       "      <td>ar</td>\n",
       "      <td>64931</td>\n",
       "      <td>17956</td>\n",
       "      <td>17956</td>\n",
       "      <td>18099</td>\n",
       "      <td>20874</td>\n",
       "      <td>0</td>\n",
       "      <td>20874</td>\n",
       "      <td>17910.264034</td>\n",
       "      <td>2943.222857</td>\n",
       "    </tr>\n",
       "    <tr>\n",
       "      <th>8</th>\n",
       "      <td>ca</td>\n",
       "      <td>4</td>\n",
       "      <td>8094</td>\n",
       "      <td>10805</td>\n",
       "      <td>18099</td>\n",
       "      <td>18099</td>\n",
       "      <td>8094</td>\n",
       "      <td>18099</td>\n",
       "      <td>13774.250000</td>\n",
       "      <td>5114.965322</td>\n",
       "    </tr>\n",
       "    <tr>\n",
       "      <th>9</th>\n",
       "      <td>iw</td>\n",
       "      <td>292</td>\n",
       "      <td>0</td>\n",
       "      <td>0</td>\n",
       "      <td>0</td>\n",
       "      <td>0</td>\n",
       "      <td>0</td>\n",
       "      <td>13172</td>\n",
       "      <td>145.657534</td>\n",
       "      <td>1273.350606</td>\n",
       "    </tr>\n",
       "  </tbody>\n",
       "</table>\n",
       "</div>"
      ],
      "text/plain": [
       "  tweet_language  count  25th percentile  50th percentile  75th percentile  \\\n",
       "0             en   2227             8094            11976            18099   \n",
       "1             ro      4             8094             8094            13172   \n",
       "2            und  23714            10805            17956            17956   \n",
       "3             ur     63            17956            17956            18099   \n",
       "4             tl      5             9847            17956            18099   \n",
       "5             in     22            11976            11976            18099   \n",
       "6             es     29             8094            17956            18099   \n",
       "7             ar  64931            17956            17956            18099   \n",
       "8             ca      4             8094            10805            18099   \n",
       "9             iw    292                0                0                0   \n",
       "\n",
       "   95th percentile   min    max          mean       stddev  \n",
       "0            18099     0  20874  12168.157611  5436.065392  \n",
       "1            18099  8094  18099  11864.750000  4796.244599  \n",
       "2            20874     0  20874  15333.944168  4543.076086  \n",
       "3            20874  8094  20874  16677.158730  4175.002948  \n",
       "4            18099  8094  18099  14419.000000  5012.583615  \n",
       "5            20874  8094  20874  14460.818182  4426.094706  \n",
       "6            18099  8094  20256  14176.344828  4659.977401  \n",
       "7            20874     0  20874  17910.264034  2943.222857  \n",
       "8            18099  8094  18099  13774.250000  5114.965322  \n",
       "9                0     0  13172    145.657534  1273.350606  "
      ]
     },
     "execution_count": 11,
     "metadata": {},
     "output_type": "execute_result"
    }
   ],
   "source": [
    "all_tweet_languages = df.groupBy(\"tweet_language\").count().limit(10).collect()\n",
    "\n",
    "language_followers_statistic_df = []\n",
    "\n",
    "for row in all_tweet_languages:\n",
    "    tweet_language = row[\"tweet_language\"]\n",
    "    count = row[\"count\"]\n",
    "    stat_dict = {'tweet_language': tweet_language, 'count': count}\n",
    "\n",
    "    language_followers_df = df.select(df.follower_count).filter(df.tweet_language == tweet_language)\n",
    "    stats = language_followers_df.select(\n",
    "        F.percentile_approx(df.follower_count, [0.25, 0.5, 0.75, 0.95], 1000000).alias(\"percentiles\"),\n",
    "        F.min(df.follower_count).alias('min'),\n",
    "        F.max(df.follower_count).alias('max'),\n",
    "        F.mean(df.follower_count).alias('mean'),\n",
    "        F.stddev(df.follower_count).alias('stddev')\n",
    "    ).collect()[0]\n",
    "\n",
    "    stat_dict['25th percentile'] = stats['percentiles'][0]\n",
    "    stat_dict['50th percentile'] = stats['percentiles'][1]\n",
    "    stat_dict['75th percentile'] = stats['percentiles'][2]\n",
    "    stat_dict['95th percentile'] = stats['percentiles'][3]\n",
    "    stat_dict['min'] = stats['min']\n",
    "    stat_dict['max'] = stats['max']\n",
    "    stat_dict['mean'] = stats['mean']\n",
    "    stat_dict['stddev'] = stats['stddev']\n",
    "\n",
    "    language_followers_statistic_df.append(stat_dict)\n",
    "\n",
    "language_followers_statistic_df = pd.DataFrame(language_followers_statistic_df)\n",
    "language_followers_statistic_df"
   ]
  },
  {
   "cell_type": "markdown",
   "id": "f99f9d83-280f-4b6d-8a6a-a39f40c5e804",
   "metadata": {},
   "source": [
    "##### Бинарный признак:"
   ]
  },
  {
   "cell_type": "markdown",
   "id": "b0a5d376-ad69-4dcd-b7f4-74ea26270e4c",
   "metadata": {},
   "source": [
    "1. Количество (count) - Указывает какое количество значений имеется в колонке\n",
    "\n",
    "2. Проценты (percentage) - Отношение количества значений в процентах данного показателя от обшего."
   ]
  },
  {
   "cell_type": "code",
   "execution_count": 12,
   "id": "5dbe25e1-bc5e-473d-a7ec-7149f6088e42",
   "metadata": {},
   "outputs": [
    {
     "name": "stdout",
     "output_type": "stream",
     "text": [
      "+----------+------+------------------+\n",
      "|is_retweet| count|        percentage|\n",
      "+----------+------+------------------+\n",
      "|      true|100693|  57.7812080382863|\n",
      "|     false| 73573|42.218791961713706|\n",
      "+----------+------+------------------+\n",
      "\n"
     ]
    }
   ],
   "source": [
    "# Подсчёт количества значений \"true\" и \"false\"\n",
    "true_false_counts = df.groupBy(\"is_retweet\").count()\n",
    "\n",
    "# Добавление столбца с процентным соотношением\n",
    "total_count = df.count()\n",
    "true_false_counts_with_percentage = true_false_counts.withColumn(\"percentage\", F.col(\"count\") / total_count * 100)\n",
    "\n",
    "true_false_counts_with_percentage.show()"
   ]
  },
  {
   "cell_type": "markdown",
   "id": "16f903e6-b4f9-4a02-b39f-16009af5622a",
   "metadata": {},
   "source": [
    "#### 5. Визуализацией распределения наиболее важных признаков:"
   ]
  },
  {
   "cell_type": "markdown",
   "id": "2c357abe-593b-4baa-9b48-4be62757db1c",
   "metadata": {},
   "source": [
    "1. Диаграммы распределения количественных типов данных с помощью гистограмм:"
   ]
  },
  {
   "cell_type": "code",
   "execution_count": 13,
   "id": "8b1c7579-c768-4c71-a61a-e83b050f206c",
   "metadata": {},
   "outputs": [
    {
     "data": {
      "text/plain": [
       "<BarContainer object of 15 artists>"
      ]
     },
     "execution_count": 13,
     "metadata": {},
     "output_type": "execute_result"
    },
    {
     "data": {
      "text/plain": [
       "Text(0.5, 1.0, 'Гистограмма распределения follower_count')"
      ]
     },
     "execution_count": 13,
     "metadata": {},
     "output_type": "execute_result"
    },
    {
     "data": {
      "text/plain": [
       "Text(0.5, 0, 'Значения follower_count')"
      ]
     },
     "execution_count": 13,
     "metadata": {},
     "output_type": "execute_result"
    },
    {
     "data": {
      "text/plain": [
       "Text(0, 0.5, 'Общее количество')"
      ]
     },
     "execution_count": 13,
     "metadata": {},
     "output_type": "execute_result"
    },
    {
     "data": {
      "text/plain": [
       "<BarContainer object of 24 artists>"
      ]
     },
     "execution_count": 13,
     "metadata": {},
     "output_type": "execute_result"
    },
    {
     "data": {
      "text/plain": [
       "Text(0.5, 1.0, 'Гистограмма распределения following_count')"
      ]
     },
     "execution_count": 13,
     "metadata": {},
     "output_type": "execute_result"
    },
    {
     "data": {
      "text/plain": [
       "Text(0.5, 0, 'Значения following_count')"
      ]
     },
     "execution_count": 13,
     "metadata": {},
     "output_type": "execute_result"
    },
    {
     "data": {
      "text/plain": [
       "Text(0, 0.5, 'Общее количество')"
      ]
     },
     "execution_count": 13,
     "metadata": {},
     "output_type": "execute_result"
    },
    {
     "data": {
      "text/plain": [
       "<BarContainer object of 116 artists>"
      ]
     },
     "execution_count": 13,
     "metadata": {},
     "output_type": "execute_result"
    },
    {
     "data": {
      "text/plain": [
       "Text(0.5, 1.0, 'Гистограмма распределения reply_count')"
      ]
     },
     "execution_count": 13,
     "metadata": {},
     "output_type": "execute_result"
    },
    {
     "data": {
      "text/plain": [
       "Text(0.5, 0, 'Значения reply_count')"
      ]
     },
     "execution_count": 13,
     "metadata": {},
     "output_type": "execute_result"
    },
    {
     "data": {
      "text/plain": [
       "Text(0, 0.5, 'Общее количество')"
      ]
     },
     "execution_count": 13,
     "metadata": {},
     "output_type": "execute_result"
    },
    {
     "data": {
      "text/plain": [
       "<BarContainer object of 43 artists>"
      ]
     },
     "execution_count": 13,
     "metadata": {},
     "output_type": "execute_result"
    },
    {
     "data": {
      "text/plain": [
       "Text(0.5, 1.0, 'Гистограмма распределения quote_count')"
      ]
     },
     "execution_count": 13,
     "metadata": {},
     "output_type": "execute_result"
    },
    {
     "data": {
      "text/plain": [
       "Text(0.5, 0, 'Значения quote_count')"
      ]
     },
     "execution_count": 13,
     "metadata": {},
     "output_type": "execute_result"
    },
    {
     "data": {
      "text/plain": [
       "Text(0, 0.5, 'Общее количество')"
      ]
     },
     "execution_count": 13,
     "metadata": {},
     "output_type": "execute_result"
    },
    {
     "data": {
      "text/plain": [
       "<BarContainer object of 658 artists>"
      ]
     },
     "execution_count": 13,
     "metadata": {},
     "output_type": "execute_result"
    },
    {
     "data": {
      "text/plain": [
       "Text(0.5, 1.0, 'Гистограмма распределения like_count')"
      ]
     },
     "execution_count": 13,
     "metadata": {},
     "output_type": "execute_result"
    },
    {
     "data": {
      "text/plain": [
       "Text(0.5, 0, 'Значения like_count')"
      ]
     },
     "execution_count": 13,
     "metadata": {},
     "output_type": "execute_result"
    },
    {
     "data": {
      "text/plain": [
       "Text(0, 0.5, 'Общее количество')"
      ]
     },
     "execution_count": 13,
     "metadata": {},
     "output_type": "execute_result"
    },
    {
     "data": {
      "text/plain": [
       "<BarContainer object of 178 artists>"
      ]
     },
     "execution_count": 13,
     "metadata": {},
     "output_type": "execute_result"
    },
    {
     "data": {
      "text/plain": [
       "Text(0.5, 1.0, 'Гистограмма распределения retweet_count')"
      ]
     },
     "execution_count": 13,
     "metadata": {},
     "output_type": "execute_result"
    },
    {
     "data": {
      "text/plain": [
       "Text(0.5, 0, 'Значения retweet_count')"
      ]
     },
     "execution_count": 13,
     "metadata": {},
     "output_type": "execute_result"
    },
    {
     "data": {
      "text/plain": [
       "Text(0, 0.5, 'Общее количество')"
      ]
     },
     "execution_count": 13,
     "metadata": {},
     "output_type": "execute_result"
    },
    {
     "data": {
      "image/png": "[encoded data removed]",
      "text/plain": [
       "<Figure size 2000x1000 with 6 Axes>"
      ]
     },
     "metadata": {},
     "output_type": "display_data"
    }
   ],
   "source": [
    "columns = ['follower_count', 'following_count', 'reply_count', 'quote_count', 'like_count', 'retweet_count']\n",
    "\n",
    "fig, axs = plt.subplots(2, 3, figsize=(20, 10))\n",
    "axs = axs.ravel()  # Преобразуем матрицу осей в одномерный массив\n",
    "\n",
    "for i, column in enumerate(columns):\n",
    "    total_counts = df.groupBy(column).count().collect()\n",
    "\n",
    "    values = [int(row[column]) for row in total_counts]\n",
    "    counts = [int(row['count']) for row in total_counts]\n",
    "\n",
    "    axs[i].bar(values, counts, color='skyblue', edgecolor='black')\n",
    "\n",
    "    axs[i].set_title(f'Гистограмма распределения {column}')\n",
    "    axs[i].set_xlabel(f'Значения {column}')\n",
    "    axs[i].set_ylabel('Общее количество')\n",
    "    axs[i].set_yscale('log')\n",
    "\n",
    "plt.tight_layout()\n",
    "plt.show()"
   ]
  },
  {
   "cell_type": "markdown",
   "id": "e029d18f-3171-41db-9099-d4ccc4ba23db",
   "metadata": {},
   "source": [
    "2. Круговая диграмма распределения бинарного признака:"
   ]
  },
  {
   "cell_type": "code",
   "execution_count": 14,
   "id": "a1b093fb-fc4a-41cb-9d99-006c14d5ea24",
   "metadata": {},
   "outputs": [
    {
     "data": {
      "text/plain": [
       "<Figure size 500x500 with 0 Axes>"
      ]
     },
     "execution_count": 14,
     "metadata": {},
     "output_type": "execute_result"
    },
    {
     "data": {
      "text/plain": [
       "([<matplotlib.patches.Wedge at 0x7fd748d2f350>,\n",
       "  <matplotlib.patches.Wedge at 0x7fd73fa72d10>],\n",
       " [Text(-0.4821017292695106, -0.9887254030494754, 'True'),\n",
       "  Text(0.4821017292695107, 0.9887254030494753, 'False')],\n",
       " [Text(-0.26296457960155123, -0.5393047652997138, '57.8%'),\n",
       "  Text(0.2629645796015513, 0.5393047652997137, '42.2%')])"
      ]
     },
     "execution_count": 14,
     "metadata": {},
     "output_type": "execute_result"
    },
    {
     "data": {
      "text/plain": [
       "(-1.0999985552098335,\n",
       " 1.0999928511193444,\n",
       " -1.0999996613780405,\n",
       " 1.0999928889388937)"
      ]
     },
     "execution_count": 14,
     "metadata": {},
     "output_type": "execute_result"
    },
    {
     "data": {
      "text/plain": [
       "Text(0.5, 1.0, 'Является ли пост ретвитом:')"
      ]
     },
     "execution_count": 14,
     "metadata": {},
     "output_type": "execute_result"
    },
    {
     "data": {
      "image/png": "[encoded data removed]",
      "text/plain": [
       "<Figure size 500x500 with 1 Axes>"
      ]
     },
     "metadata": {},
     "output_type": "display_data"
    }
   ],
   "source": [
    "# Создание круговой диаграммы для определения соотношения ретвитов\n",
    "plt.figure(figsize=(5, 5))\n",
    "retweet_counts = df.groupBy(\"is_retweet\").count().collect()\n",
    "\n",
    "labels = [str(row['is_retweet']) for row in retweet_counts]\n",
    "sizes = [int(row['count']) for row in retweet_counts]\n",
    "colors = ['lightcoral', 'lightskyblue']\n",
    "\n",
    "plt.pie(sizes, labels=labels, colors=colors, autopct='%1.1f%%', startangle=140)\n",
    "plt.axis('equal')\n",
    "plt.title('Является ли пост ретвитом:', fontsize=14)\n",
    "plt.show()"
   ]
  },
  {
   "cell_type": "markdown",
   "id": "f980e9fe-d58c-4750-8d85-f205de9f31d5",
   "metadata": {},
   "source": [
    "3. Диаграммы распределения рассеиваний количественных показателей для выявления закономерностей:"
   ]
  },
  {
   "cell_type": "code",
   "execution_count": 15,
   "id": "c3906fb1-5f74-406e-8ad4-5d10f98427b7",
   "metadata": {},
   "outputs": [
    {
     "data": {
      "text/plain": [
       "<Figure size 1100x700 with 0 Axes>"
      ]
     },
     "execution_count": 15,
     "metadata": {},
     "output_type": "execute_result"
    },
    {
     "data": {
      "text/plain": [
       "<matplotlib.collections.PathCollection at 0x7fd73fc01e10>"
      ]
     },
     "execution_count": 15,
     "metadata": {},
     "output_type": "execute_result"
    },
    {
     "data": {
      "text/plain": [
       "Text(0.5, 1.0, 'Диаграмма рассеивания количества лайков и количества ретвитов')"
      ]
     },
     "execution_count": 15,
     "metadata": {},
     "output_type": "execute_result"
    },
    {
     "data": {
      "text/plain": [
       "Text(0.5, 0, 'Количество лайков')"
      ]
     },
     "execution_count": 15,
     "metadata": {},
     "output_type": "execute_result"
    },
    {
     "data": {
      "text/plain": [
       "Text(0, 0.5, 'Количество ретвитов')"
      ]
     },
     "execution_count": 15,
     "metadata": {},
     "output_type": "execute_result"
    },
    {
     "data": {
      "image/png": "[encoded data removed]",
      "text/plain": [
       "<Figure size 1100x700 with 1 Axes>"
      ]
     },
     "metadata": {},
     "output_type": "display_data"
    },
    {
     "data": {
      "text/plain": [
       "<Figure size 1100x700 with 0 Axes>"
      ]
     },
     "execution_count": 15,
     "metadata": {},
     "output_type": "execute_result"
    },
    {
     "data": {
      "text/plain": [
       "<matplotlib.collections.PathCollection at 0x7fd71da09450>"
      ]
     },
     "execution_count": 15,
     "metadata": {},
     "output_type": "execute_result"
    },
    {
     "data": {
      "text/plain": [
       "Text(0.5, 1.0, 'Диаграмма рассеивания количества ответов и количества цитирований')"
      ]
     },
     "execution_count": 15,
     "metadata": {},
     "output_type": "execute_result"
    },
    {
     "data": {
      "text/plain": [
       "Text(0.5, 0, 'Количество ответов')"
      ]
     },
     "execution_count": 15,
     "metadata": {},
     "output_type": "execute_result"
    },
    {
     "data": {
      "text/plain": [
       "Text(0, 0.5, 'Количество цитирований')"
      ]
     },
     "execution_count": 15,
     "metadata": {},
     "output_type": "execute_result"
    },
    {
     "data": {
      "image/png": "[encoded data removed]",
      "text/plain": [
       "<Figure size 1100x700 with 1 Axes>"
      ]
     },
     "metadata": {},
     "output_type": "display_data"
    },
    {
     "data": {
      "text/plain": [
       "<Figure size 1100x700 with 0 Axes>"
      ]
     },
     "execution_count": 15,
     "metadata": {},
     "output_type": "execute_result"
    },
    {
     "data": {
      "text/plain": [
       "<matplotlib.collections.PathCollection at 0x7fd71da5de50>"
      ]
     },
     "execution_count": 15,
     "metadata": {},
     "output_type": "execute_result"
    },
    {
     "data": {
      "text/plain": [
       "Text(0.5, 1.0, 'Диаграмма рассеивания подписок лайков и количества подписчиков')"
      ]
     },
     "execution_count": 15,
     "metadata": {},
     "output_type": "execute_result"
    },
    {
     "data": {
      "text/plain": [
       "Text(0.5, 0, 'Количество подписок')"
      ]
     },
     "execution_count": 15,
     "metadata": {},
     "output_type": "execute_result"
    },
    {
     "data": {
      "text/plain": [
       "Text(0, 0.5, 'Количество подписчиков')"
      ]
     },
     "execution_count": 15,
     "metadata": {},
     "output_type": "execute_result"
    },
    {
     "data": {
      "image/png": "[encoded data removed]",
      "text/plain": [
       "<Figure size 1100x700 with 1 Axes>"
      ]
     },
     "metadata": {},
     "output_type": "display_data"
    },
    {
     "data": {
      "text/plain": [
       "<Figure size 1100x700 with 0 Axes>"
      ]
     },
     "execution_count": 15,
     "metadata": {},
     "output_type": "execute_result"
    },
    {
     "data": {
      "text/plain": [
       "<matplotlib.collections.PathCollection at 0x7fd71dacdd10>"
      ]
     },
     "execution_count": 15,
     "metadata": {},
     "output_type": "execute_result"
    },
    {
     "data": {
      "text/plain": [
       "Text(0.5, 1.0, 'Диаграмма рассеивания количества подписчиков и количества лайков')"
      ]
     },
     "execution_count": 15,
     "metadata": {},
     "output_type": "execute_result"
    },
    {
     "data": {
      "text/plain": [
       "Text(0.5, 0, 'Количество подписчиков')"
      ]
     },
     "execution_count": 15,
     "metadata": {},
     "output_type": "execute_result"
    },
    {
     "data": {
      "text/plain": [
       "Text(0, 0.5, 'Количество лайков')"
      ]
     },
     "execution_count": 15,
     "metadata": {},
     "output_type": "execute_result"
    },
    {
     "data": {
      "image/png": "[encoded data removed]",
      "text/plain": [
       "<Figure size 1100x700 with 1 Axes>"
      ]
     },
     "metadata": {},
     "output_type": "display_data"
    },
    {
     "data": {
      "text/plain": [
       "<Figure size 1100x700 with 0 Axes>"
      ]
     },
     "execution_count": 15,
     "metadata": {},
     "output_type": "execute_result"
    },
    {
     "data": {
      "text/plain": [
       "<matplotlib.collections.PathCollection at 0x7fd71d92c9d0>"
      ]
     },
     "execution_count": 15,
     "metadata": {},
     "output_type": "execute_result"
    },
    {
     "data": {
      "text/plain": [
       "Text(0.5, 1.0, 'Диаграмма рассеивания количества лайков и количества ответов')"
      ]
     },
     "execution_count": 15,
     "metadata": {},
     "output_type": "execute_result"
    },
    {
     "data": {
      "text/plain": [
       "Text(0.5, 0, 'Количество лайков')"
      ]
     },
     "execution_count": 15,
     "metadata": {},
     "output_type": "execute_result"
    },
    {
     "data": {
      "text/plain": [
       "Text(0, 0.5, 'Количество ответов')"
      ]
     },
     "execution_count": 15,
     "metadata": {},
     "output_type": "execute_result"
    },
    {
     "data": {
      "image/png": "[encoded data removed]",
      "text/plain": [
       "<Figure size 1100x700 with 1 Axes>"
      ]
     },
     "metadata": {},
     "output_type": "display_data"
    }
   ],
   "source": [
    "sampled_df = df.sample(False, 0.1, seed=42)\n",
    "\n",
    "follower_counts = sampled_df.select('follower_count').collect()\n",
    "following_counts = sampled_df.select('following_count').collect()\n",
    "reply_counts = sampled_df.select('reply_count').collect()\n",
    "quote_counts = sampled_df.select('quote_count').collect()\n",
    "like_counts = sampled_df.select('like_count').collect()\n",
    "retweet_counts = sampled_df.select('retweet_count').collect()\n",
    "\n",
    "# Построение диаграммы рассеяния\n",
    "plt.figure(figsize=(11, 7))\n",
    "plt.scatter([x['like_count'] for x in like_counts], [x['retweet_count'] for x in retweet_counts], alpha=0.3, color='skyblue')\n",
    "plt.title('Диаграмма рассеивания количества лайков и количества ретвитов')\n",
    "plt.xlabel('Количество лайков')\n",
    "plt.ylabel('Количество ретвитов')\n",
    "plt.show()\n",
    "\n",
    "# Построение диаграммы рассеяния\n",
    "plt.figure(figsize=(11, 7))\n",
    "plt.scatter([x['reply_count'] for x in reply_counts], [x['quote_count'] for x in quote_counts], alpha=0.3, color='lightgreen')\n",
    "plt.title('Диаграмма рассеивания количества ответов и количества цитирований')\n",
    "plt.xlabel('Количество ответов')\n",
    "plt.ylabel('Количество цитирований')\n",
    "plt.show()\n",
    "\n",
    "# Построение диаграммы рассеяния\n",
    "plt.figure(figsize=(11, 7))\n",
    "plt.scatter([x['follower_count'] for x in follower_counts], [x['following_count'] for x in following_counts], alpha=0.3, color='lightcoral')\n",
    "plt.title('Диаграмма рассеивания подписок лайков и количества подписчиков')\n",
    "plt.xlabel('Количество подписок')\n",
    "plt.ylabel('Количество подписчиков')\n",
    "plt.show()\n",
    "\n",
    "# Построение диаграммы рассеяния\n",
    "plt.figure(figsize=(11, 7))\n",
    "plt.scatter([x['follower_count'] for x in follower_counts], [x['like_count'] for x in like_counts], alpha=0.3, color='orange')\n",
    "plt.title('Диаграмма рассеивания количества подписчиков и количества лайков')\n",
    "plt.xlabel('Количество подписчиков')\n",
    "plt.ylabel('Количество лайков')\n",
    "plt.show()\n",
    "\n",
    "# Построение диаграммы рассеяния\n",
    "plt.figure(figsize=(11, 7))\n",
    "plt.scatter([x['like_count'] for x in like_counts], [x['reply_count'] for x in reply_counts], alpha=0.3, color='pink')\n",
    "plt.title('Диаграмма рассеивания количества лайков и количества ответов')\n",
    "plt.xlabel('Количество лайков')\n",
    "plt.ylabel('Количество ответов')\n",
    "plt.show()"
   ]
  },
  {
   "cell_type": "markdown",
   "id": "3eb3a23c-1e42-4e69-b9a6-4514877bc6f8",
   "metadata": {},
   "source": [
    "#### 6. Корреляций между признаками:"
   ]
  },
  {
   "cell_type": "markdown",
   "id": "c1161efe-833d-4547-9647-4c273aef2dc7",
   "metadata": {},
   "source": [
    "##### Поля \"tweetid\" и \"userid\" нет необходимости включать в списки для анализа корреляции. Идентификаторы обычно не имеют значения для анализа корреляций и могут даже помешать получению точных результатов.\n",
    "\n",
    "##### Корреляция можно посчитать только у количественных признаков. В данной работе их шесть:\n",
    "1. 'follower_count' - Количество подписчиков\n",
    "\n",
    "2. 'following_count' - Количество подписок\n",
    "\n",
    "3. 'quote_count' - Количество цитирований\n",
    "\n",
    "4. 'reply_count' - Количество ответов\n",
    "\n",
    "5. 'like_count' - Количество лайков\n",
    "\n",
    "6. 'retweet_count' - Количество ретвитов"
   ]
  },
  {
   "cell_type": "code",
   "execution_count": 16,
   "id": "2b6084c7-00bc-450b-bbaa-c6fc537fee7b",
   "metadata": {},
   "outputs": [
    {
     "data": {
      "text/plain": [
       "['tweetid',\n",
       " 'userid',\n",
       " 'follower_count',\n",
       " 'following_count',\n",
       " 'tweet_language',\n",
       " 'is_retweet',\n",
       " 'quote_count',\n",
       " 'reply_count',\n",
       " 'like_count',\n",
       " 'retweet_count']"
      ]
     },
     "execution_count": 16,
     "metadata": {},
     "output_type": "execute_result"
    },
    {
     "name": "stdout",
     "output_type": "stream",
     "text": [
      "Columns overview\n"
     ]
    },
    {
     "data": {
      "text/html": [
       "<div>\n",
       "<style scoped>\n",
       "    .dataframe tbody tr th:only-of-type {\n",
       "        vertical-align: middle;\n",
       "    }\n",
       "\n",
       "    .dataframe tbody tr th {\n",
       "        vertical-align: top;\n",
       "    }\n",
       "\n",
       "    .dataframe thead th {\n",
       "        text-align: right;\n",
       "    }\n",
       "</style>\n",
       "<table border=\"1\" class=\"dataframe\">\n",
       "  <thead>\n",
       "    <tr style=\"text-align: right;\">\n",
       "      <th></th>\n",
       "      <th>Column Name</th>\n",
       "      <th>Data type</th>\n",
       "    </tr>\n",
       "  </thead>\n",
       "  <tbody>\n",
       "    <tr>\n",
       "      <th>0</th>\n",
       "      <td>tweetid</td>\n",
       "      <td>bigint</td>\n",
       "    </tr>\n",
       "    <tr>\n",
       "      <th>1</th>\n",
       "      <td>userid</td>\n",
       "      <td>bigint</td>\n",
       "    </tr>\n",
       "    <tr>\n",
       "      <th>2</th>\n",
       "      <td>follower_count</td>\n",
       "      <td>int</td>\n",
       "    </tr>\n",
       "    <tr>\n",
       "      <th>3</th>\n",
       "      <td>following_count</td>\n",
       "      <td>int</td>\n",
       "    </tr>\n",
       "    <tr>\n",
       "      <th>4</th>\n",
       "      <td>tweet_language</td>\n",
       "      <td>string</td>\n",
       "    </tr>\n",
       "    <tr>\n",
       "      <th>5</th>\n",
       "      <td>is_retweet</td>\n",
       "      <td>boolean</td>\n",
       "    </tr>\n",
       "    <tr>\n",
       "      <th>6</th>\n",
       "      <td>quote_count</td>\n",
       "      <td>int</td>\n",
       "    </tr>\n",
       "    <tr>\n",
       "      <th>7</th>\n",
       "      <td>reply_count</td>\n",
       "      <td>int</td>\n",
       "    </tr>\n",
       "    <tr>\n",
       "      <th>8</th>\n",
       "      <td>like_count</td>\n",
       "      <td>int</td>\n",
       "    </tr>\n",
       "    <tr>\n",
       "      <th>9</th>\n",
       "      <td>retweet_count</td>\n",
       "      <td>int</td>\n",
       "    </tr>\n",
       "  </tbody>\n",
       "</table>\n",
       "</div>"
      ],
      "text/plain": [
       "       Column Name Data type\n",
       "0          tweetid    bigint\n",
       "1           userid    bigint\n",
       "2   follower_count       int\n",
       "3  following_count       int\n",
       "4   tweet_language    string\n",
       "5       is_retweet   boolean\n",
       "6      quote_count       int\n",
       "7      reply_count       int\n",
       "8       like_count       int\n",
       "9    retweet_count       int"
      ]
     },
     "execution_count": 16,
     "metadata": {},
     "output_type": "execute_result"
    }
   ],
   "source": [
    "df.columns\n",
    "print('Columns overview')\n",
    "pd.DataFrame(df.dtypes, columns = ['Column Name','Data type'])"
   ]
  },
  {
   "cell_type": "code",
   "execution_count": 17,
   "id": "d39349f2-eb33-4171-ac48-ba01ca4c23ab",
   "metadata": {},
   "outputs": [
    {
     "data": {
      "text/plain": [
       "VectorAssembler_55327fc14f4d"
      ]
     },
     "execution_count": 17,
     "metadata": {},
     "output_type": "execute_result"
    }
   ],
   "source": [
    "columns_to_exclude = ['tweetid', 'userid', 'tweet_language', 'is_retweet']\n",
    "list_columns = [column for column in df.columns if column not in columns_to_exclude]\n",
    "assembler = VectorAssembler(inputCols=list_columns, outputCol=\"features\")\n",
    "assembler.setHandleInvalid(\"skip\")\n",
    "df_vector = assembler.transform(df).select(\"features\")"
   ]
  },
  {
   "cell_type": "code",
   "execution_count": 18,
   "id": "61a14918-c769-4ea1-8217-e783dc637d2e",
   "metadata": {},
   "outputs": [
    {
     "name": "stdout",
     "output_type": "stream",
     "text": [
      "+--------------+---------------+-----------+-----------+----------+-------------+\n",
      "|follower_count|following_count|quote_count|reply_count|like_count|retweet_count|\n",
      "+--------------+---------------+-----------+-----------+----------+-------------+\n",
      "|           1.0|           0.38|      0.001|     -0.016|     -0.02|         0.01|\n",
      "|          0.38|            1.0|     -0.015|     -0.063|    -0.096|       -0.057|\n",
      "|         0.001|         -0.015|        1.0|      0.707|     0.302|        0.241|\n",
      "|        -0.016|         -0.063|      0.707|        1.0|     0.654|        0.544|\n",
      "|         -0.02|         -0.096|      0.302|      0.654|       1.0|        0.857|\n",
      "|          0.01|         -0.057|      0.241|      0.544|     0.857|          1.0|\n",
      "+--------------+---------------+-----------+-----------+----------+-------------+\n",
      "\n"
     ]
    }
   ],
   "source": [
    "matrix = Correlation.corr(df_vector, \"features\").collect()[0][0]\n",
    "corrmatrix = matrix.toArray().tolist()\n",
    "columns = ['follower_count', 'following_count', 'quote_count', 'reply_count', 'like_count', 'retweet_count']\n",
    "df_corr = spark.createDataFrame(corrmatrix, columns)\n",
    "df_corr.select(\n",
    "    round('follower_count', 3).alias('follower_count'),\n",
    "    round('following_count', 3).alias('following_count'),\n",
    "    round('quote_count', 3).alias('quote_count'),\n",
    "    round('reply_count', 3).alias('reply_count'),\n",
    "    round('like_count', 3).alias('like_count'),\n",
    "    round('retweet_count', 3).alias('retweet_count')\n",
    ").show()"
   ]
  },
  {
   "cell_type": "markdown",
   "id": "4dee2c37-235c-466f-b9e5-5b67b838563f",
   "metadata": {},
   "source": [
    "### Сохранение результатов анализа:"
   ]
  },
  {
   "cell_type": "markdown",
   "id": "fbb58460-313d-4252-b736-834d88fa7988",
   "metadata": {},
   "source": [
    "##### Сохраним обработанный датасет для дальнейшей работы, а именно создания модели для машинного обучения:"
   ]
  },
  {
   "cell_type": "code",
   "execution_count": 19,
   "id": "98e5da14-d961-4a02-b3ad-e0218473af47",
   "metadata": {},
   "outputs": [],
   "source": [
    "df = df.withColumn(\"follower_count\", col(\"follower_count\").cast(DoubleType()))\n",
    "df = df.withColumn(\"following_count\", col(\"following_count\").cast(DoubleType()))\n",
    "df = df.withColumn(\"quote_count\", col(\"quote_count\").cast(DoubleType()))\n",
    "df = df.withColumn(\"reply_count\", col(\"reply_count\").cast(DoubleType()))\n",
    "df = df.withColumn(\"like_count\", col(\"like_count\").cast(DoubleType()))\n",
    "df = df.withColumn(\"retweet_count\", col(\"retweet_count\").cast(DoubleType()))\n",
    "\n",
    "processed_filename_data = \"processed_\" + filename_data\n",
    "df.coalesce(1).write.option(\"header\", \"true\").csv(processed_filename_data)"
   ]
  },
  {
   "cell_type": "markdown",
   "id": "0e511775-4ee4-4b07-a5de-47d1b8b6106d",
   "metadata": {},
   "source": [
    "##### Проверим сохраненный датасет на сохранение типов признаков и количества строк:"
   ]
  },
  {
   "cell_type": "code",
   "execution_count": 20,
   "id": "8066ba42-9c2a-4362-94f8-5ceb9c7fce36",
   "metadata": {},
   "outputs": [
    {
     "name": "stdout",
     "output_type": "stream",
     "text": [
      "Data overview\n",
      "root\n",
      " |-- tweetid: long (nullable = true)\n",
      " |-- userid: long (nullable = true)\n",
      " |-- follower_count: double (nullable = true)\n",
      " |-- following_count: double (nullable = true)\n",
      " |-- tweet_language: string (nullable = true)\n",
      " |-- is_retweet: boolean (nullable = true)\n",
      " |-- quote_count: double (nullable = true)\n",
      " |-- reply_count: double (nullable = true)\n",
      " |-- like_count: double (nullable = true)\n",
      " |-- retweet_count: double (nullable = true)\n",
      "\n",
      "Columns overview\n"
     ]
    },
    {
     "data": {
      "text/html": [
       "<div>\n",
       "<style scoped>\n",
       "    .dataframe tbody tr th:only-of-type {\n",
       "        vertical-align: middle;\n",
       "    }\n",
       "\n",
       "    .dataframe tbody tr th {\n",
       "        vertical-align: top;\n",
       "    }\n",
       "\n",
       "    .dataframe thead th {\n",
       "        text-align: right;\n",
       "    }\n",
       "</style>\n",
       "<table border=\"1\" class=\"dataframe\">\n",
       "  <thead>\n",
       "    <tr style=\"text-align: right;\">\n",
       "      <th></th>\n",
       "      <th>Column Name</th>\n",
       "      <th>Data type</th>\n",
       "    </tr>\n",
       "  </thead>\n",
       "  <tbody>\n",
       "    <tr>\n",
       "      <th>0</th>\n",
       "      <td>tweetid</td>\n",
       "      <td>bigint</td>\n",
       "    </tr>\n",
       "    <tr>\n",
       "      <th>1</th>\n",
       "      <td>userid</td>\n",
       "      <td>bigint</td>\n",
       "    </tr>\n",
       "    <tr>\n",
       "      <th>2</th>\n",
       "      <td>follower_count</td>\n",
       "      <td>double</td>\n",
       "    </tr>\n",
       "    <tr>\n",
       "      <th>3</th>\n",
       "      <td>following_count</td>\n",
       "      <td>double</td>\n",
       "    </tr>\n",
       "    <tr>\n",
       "      <th>4</th>\n",
       "      <td>tweet_language</td>\n",
       "      <td>string</td>\n",
       "    </tr>\n",
       "    <tr>\n",
       "      <th>5</th>\n",
       "      <td>is_retweet</td>\n",
       "      <td>boolean</td>\n",
       "    </tr>\n",
       "    <tr>\n",
       "      <th>6</th>\n",
       "      <td>quote_count</td>\n",
       "      <td>double</td>\n",
       "    </tr>\n",
       "    <tr>\n",
       "      <th>7</th>\n",
       "      <td>reply_count</td>\n",
       "      <td>double</td>\n",
       "    </tr>\n",
       "    <tr>\n",
       "      <th>8</th>\n",
       "      <td>like_count</td>\n",
       "      <td>double</td>\n",
       "    </tr>\n",
       "    <tr>\n",
       "      <th>9</th>\n",
       "      <td>retweet_count</td>\n",
       "      <td>double</td>\n",
       "    </tr>\n",
       "  </tbody>\n",
       "</table>\n",
       "</div>"
      ],
      "text/plain": [
       "       Column Name Data type\n",
       "0          tweetid    bigint\n",
       "1           userid    bigint\n",
       "2   follower_count    double\n",
       "3  following_count    double\n",
       "4   tweet_language    string\n",
       "5       is_retweet   boolean\n",
       "6      quote_count    double\n",
       "7      reply_count    double\n",
       "8       like_count    double\n",
       "9    retweet_count    double"
      ]
     },
     "execution_count": 20,
     "metadata": {},
     "output_type": "execute_result"
    },
    {
     "name": "stdout",
     "output_type": "stream",
     "text": [
      "Rows count:\n"
     ]
    },
    {
     "data": {
      "text/plain": [
       "174266"
      ]
     },
     "execution_count": 20,
     "metadata": {},
     "output_type": "execute_result"
    }
   ],
   "source": [
    "df = spark.read.csv(processed_filename_data, header=True, mode=\"DROPMALFORMED\", inferSchema=True)\n",
    "print('Data overview')\n",
    "df.printSchema()\n",
    "print('Columns overview')\n",
    "pd.DataFrame(df.dtypes, columns = ['Column Name','Data type'])\n",
    "total_twitter_count = df.count()\n",
    "print('Rows count:')\n",
    "total_twitter_count"
   ]
  },
  {
   "cell_type": "markdown",
   "id": "32e56197-21cc-40f0-b163-a8163b4c96ef",
   "metadata": {},
   "source": [
    "### Выводы:"
   ]
  },
  {
   "cell_type": "markdown",
   "id": "412468fb-c781-4fb5-ba1d-925f282eb962",
   "metadata": {},
   "source": [
    "##### В ходе лабораторной работы был изучен функционал Apache PySpark. Я научился пользоваться функционалом Apache Spark благодаря Python API - PySpark. Целью работы было провести разведочный анализ датасета. В ходе работы были выполнены данные пункты:\n",
    "1. Типы признаков в датасете: Определил, какие данные включены в датасет (числовые, категориальные и бинарные).\n",
    "\n",
    "2. Пропущенные значения и их устранения: Определил наличие пропущенных значений в данных и их устранил. Строки с пропущенными значениями было решено полностью удалить.\n",
    "\n",
    "3. Выбросы и их устранения: Провел работу по устранению выбросов используя метод межквартильного интервала, а после проверил их отсутствие с помощью boxspot-ов.\n",
    "\n",
    "4. Расчет статистических показателей признаков (средних, квартилей и т.д.): Провел расчёт статистических показателей категориальных, бинарных и числовых признаков, которые включают: средние значения, медианы, квартили, моды, стандартные отклонения, диапозоны значений, квантили, процентные соотношения и другие характеристики, чтобы лучше понять распределение данных.\n",
    "\n",
    "5. Визуализация распределения наиболее важных признаков: Выполнил визуализацию распределения наиболее важных признаков. Визуализация помогает визуально оценить данные и выявить особенности.\n",
    "\n",
    "6. Корреляция между признаками: Исследовал корреляции между признаками, позволяющие понять, какие признаки взаимосвязаны между собой, а какие – нет.\n",
    "\n",
    "##### Разведочный анализ помогает лучше понять характеристики датасета, подготовить данные для построения моделей (для выполнения ЛР №2) и выявить интересные закономерности, которые могут стать основой для более глубокого исследования."
   ]
  },
  {
   "cell_type": "code",
   "execution_count": null,
   "id": "cc1beb6a-d933-42db-9edb-87a1c27d0a19",
   "metadata": {},
   "outputs": [],
   "source": []
  }
 ],
 "metadata": {
  "kernelspec": {
   "display_name": "Python 3 (ipykernel)",
   "language": "python",
   "name": "python3"
  },
  "language_info": {
   "codemirror_mode": {
    "name": "ipython",
    "version": 3
   },
   "file_extension": ".py",
   "mimetype": "text/x-python",
   "name": "python",
   "nbconvert_exporter": "python",
   "pygments_lexer": "ipython3",
   "version": "3.11.6"
  }
 },
 "nbformat": 4,
 "nbformat_minor": 5
}
